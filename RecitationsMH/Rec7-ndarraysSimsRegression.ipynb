{
 "cells": [
  {
   "cell_type": "markdown",
   "metadata": {},
   "source": [
    "# Recitation 7: randomness and looking at data\n",
    "\n",
    "- Mark Histed\n",
    "- mark.histed@nih.gov\n",
    "\n",
    "### Today\n",
    "- Monte carlo sim\n",
    "- regression\n",
    "- polyfit()\n",
    "- lowess()\n",
    "\n",
    "- **quiz stuff**\n",
    "  - normal, uniform, exponential\n",
    "  - histogram (normed)\n",
    "  - confidence intervals\n",
    "  - distributions\n",
    "  - coeff of variation, mean, std., var\n",
    "  - hashing\n",
    "  - parameters to functions\n",
    "  - double-under-bar methods\n",
    "  - lambda functions\n",
    "  - polymorphism vs. inheritance\n",
    "  - exceptions: try/except\n",
    "  - confidence intervals\n",
    "  - monte carlo vs. brute force"
   ]
  },
  {
   "cell_type": "code",
   "execution_count": null,
   "metadata": {
    "collapsed": false
   },
   "outputs": [],
   "source": [
    "import numpy as np\n",
    "%matplotlib inline"
   ]
  },
  {
   "cell_type": "code",
   "execution_count": null,
   "metadata": {
    "collapsed": true
   },
   "outputs": [],
   "source": [
    "%qtconsole"
   ]
  },
  {
   "cell_type": "code",
   "execution_count": 118,
   "metadata": {
    "collapsed": false
   },
   "outputs": [
    {
     "ename": "SyntaxError",
     "evalue": "invalid syntax (<ipython-input-118-65bec7ef0479>, line 7)",
     "output_type": "error",
     "traceback": [
      "\u001b[0;36m  File \u001b[0;32m\"<ipython-input-118-65bec7ef0479>\"\u001b[0;36m, line \u001b[0;32m7\u001b[0m\n\u001b[0;31m    doorsA = np.array(['goat', 'goat', 'prize'], dtype='U10')  # or S10\u001b[0m\n\u001b[0m         ^\u001b[0m\n\u001b[0;31mSyntaxError\u001b[0m\u001b[0;31m:\u001b[0m invalid syntax\n"
     ]
    }
   ],
   "source": [
    "# monte carlo\n",
    "\n",
    "# ndarray: ndims, shape, indexing\n",
    "# discuss: dtype of doorsA\n",
    "#import numba\n",
    "#@numba.jit\n",
    "doorsA = np.array(['goat', 'goat', 'prize'], dtype='U10')  # or S10\n",
    "def isGoat(montyOpens=True, switch=True):\n",
    "    randorder = np.random.permutation(3)\n",
    "    tDoorsA = doorsA[randorder]\n",
    "    choiceN=0\n",
    "    if montyOpens:\n",
    "        for iR in [1,2]:\n",
    "            if tDoorsA[iR] == 'goat':\n",
    "                tDoorsA[iR] = 'opened'\n",
    "                break\n",
    "    if switch:\n",
    "        notOpened = np.where(tDoorsA!='opened')#[0]\n",
    "        switchTarg = np.setdiff1d(notOpened, choiceN)[0]\n",
    "        #print(switchTarg)\n",
    "        choiceN = switchTarg\n",
    "    #print(tDoorsA[choiceN])\n",
    "    #import pdb; pdb.set_trace()\n",
    "    if tDoorsA[choiceN] == 'goat':\n",
    "        return(True)\n",
    "    else:\n",
    "        return(False)\n",
    "\n",
    "isGoat()\n",
    "\n"
   ]
  },
  {
   "cell_type": "code",
   "execution_count": 117,
   "metadata": {
    "collapsed": false
   },
   "outputs": [
    {
     "name": "stdout",
     "output_type": "stream",
     "text": [
      "1 loop, best of 3: 477 ms per loop\n"
     ]
    }
   ],
   "source": [
    "%%timeit\n",
    "# one simulation\n",
    "nReps = 10000\n",
    "goatV = np.nan*np.zeros((nReps,))\n",
    "\n",
    "for iR in range(nReps):\n",
    "    goatV[iR] = isGoat(montyOpens=True, switch=True)"
   ]
  },
  {
   "cell_type": "code",
   "execution_count": 96,
   "metadata": {
    "collapsed": false
   },
   "outputs": [
    {
     "data": {
      "text/plain": [
       "(array([ 651.,    0.,    0.,    0.,    0.,    0.,    0.,    0.,    0.,  349.]),\n",
       " array([ 0. ,  0.1,  0.2,  0.3,  0.4,  0.5,  0.6,  0.7,  0.8,  0.9,  1. ]),\n",
       " <a list of 10 Patch objects>)"
      ]
     },
     "execution_count": 96,
     "metadata": {},
     "output_type": "execute_result"
    },
    {
     "data": {
      "image/png": "[encoded data removed]",
      "text/plain": [
       "<matplotlib.figure.Figure at 0x11b016fd0>"
      ]
     },
     "metadata": {},
     "output_type": "display_data"
    }
   ],
   "source": [
    "plt.hist(goatV)"
   ]
  },
  {
   "cell_type": "code",
   "execution_count": 110,
   "metadata": {
    "collapsed": false
   },
   "outputs": [
    {
     "name": "stdout",
     "output_type": "stream",
     "text": [
      "[ 0.3236  0.6675  0.6672  0.6633]\n"
     ]
    }
   ],
   "source": [
    "# run for all combinations of open and switch\n",
    "nReps = 10000\n",
    "goatV = np.nan*np.zeros((nReps,))\n",
    "\n",
    "openL = [True,True,False,False]\n",
    "switchL = [True,False,True,False]\n",
    "pctV = np.nan*np.zeros((4,))\n",
    "for iP in range(len(pctV)):\n",
    "    for iR in range(nReps):\n",
    "        goatV[iR] = isGoat(montyOpens=openL[iP], switch=switchL[iP])\n",
    "    pctV[iP] = np.sum(goatV)/len(goatV)\n",
    "\n",
    "print(pctV)\n",
    "#plt.hist(goatV, cumulative=True)\n"
   ]
  },
  {
   "cell_type": "code",
   "execution_count": 107,
   "metadata": {
    "collapsed": false
   },
   "outputs": [
    {
     "name": "stdout",
     "output_type": "stream",
     "text": [
      "> <ipython-input-105-fe96e0882896>(22)isGoat()\n",
      "-> if tDoorsA[choiceN] == 'goat':\n",
      "(Pdb) p choiceN\n",
      "array([1, 2])\n",
      "(Pdb) q\n"
     ]
    }
   ],
   "source": [
    "# show pdb in console: use to debug the choiceN vector in the cell above\n",
    "import pdb; pdb.pm()"
   ]
  },
  {
   "cell_type": "code",
   "execution_count": 111,
   "metadata": {
    "collapsed": false
   },
   "outputs": [
    {
     "name": "stdout",
     "output_type": "stream",
     "text": [
      "[[ 0.  1.  1.]\n",
      " [ 0.  1.  1.]\n",
      " [ 0.  1.  1.]\n",
      " [ 0.  1.  1.]\n",
      " [ 0.  1.  1.]\n",
      " [ 0.  1.  1.]\n",
      " [ 0.  1.  1.]\n",
      " [ 0.  1.  1.]\n",
      " [ 0.  1.  1.]\n",
      " [ 0.  1.  1.]]\n",
      "[[1 2 0]\n",
      " [0 1 2]\n",
      " [0 1 2]\n",
      " [0 2 1]\n",
      " [0 1 2]\n",
      " [2 0 1]\n",
      " [0 2 1]\n",
      " [1 2 0]\n",
      " [0 2 1]\n",
      " [2 0 1]]\n",
      "[[ 1.  1.  0.]\n",
      " [ 0.  1.  1.]\n",
      " [ 0.  1.  1.]\n",
      " [ 0.  1.  1.]\n",
      " [ 0.  1.  1.]\n",
      " [ 1.  0.  1.]\n",
      " [ 0.  1.  1.]\n",
      " [ 1.  1.  0.]\n",
      " [ 0.  1.  1.]\n",
      " [ 1.  0.  1.]]\n"
     ]
    }
   ],
   "source": [
    "# monte carlo with vectors\n",
    "goat = 0\n",
    "opened = np.nan\n",
    "prize = 1\n",
    "a_ = np.array\n",
    "\n",
    "nReps = 10\n",
    "doorMat = np.tile(a_([0,1,1], 'f8'), reps=[nReps,1])\n",
    "print(doorMat)\n",
    "shuffleNs = np.vstack([np.random.permutation(3) for x in range(nReps)])\n",
    "print(shuffleNs)\n",
    "doorMat = np.take(doorMat, shuffleNs)\n",
    "print(doorMat)"
   ]
  },
  {
   "cell_type": "code",
   "execution_count": null,
   "metadata": {
    "collapsed": false
   },
   "outputs": [],
   "source": [
    "# np.nonzero returns tuple\n",
    "np.nonzero(doorMat[:,1:]==1)"
   ]
  },
  {
   "cell_type": "code",
   "execution_count": 112,
   "metadata": {
    "collapsed": false
   },
   "outputs": [
    {
     "name": "stdout",
     "output_type": "stream",
     "text": [
      "[ 0  1  3  5  7  9 10 12 13 15]\n",
      "[1 1 1 1 1 2 1 1 1 2]\n",
      "[[  1.  nan   0.]\n",
      " [  0.  nan   1.]\n",
      " [  0.  nan   1.]\n",
      " [  0.  nan   1.]\n",
      " [  0.  nan   1.]\n",
      " [  1.   0.  nan]\n",
      " [  0.  nan   1.]\n",
      " [  1.  nan   0.]\n",
      " [  0.  nan   1.]\n",
      " [  1.   0.  nan]]\n"
     ]
    }
   ],
   "source": [
    "# do open\n",
    "openXY = np.nonzero(doorMat[:,1:]==1)\n",
    "\n",
    "#  np.unique(return_index=True): returns tuple\n",
    "np.unique(openXY[0], return_index=True)\n",
    "\n",
    "desNs=np.unique(openXY[0], return_index=True)[1]\n",
    "print(desNs)\n",
    "openN = openXY[1][desNs]+1\n",
    "print(openN)\n",
    "\n",
    "doorMat2 = doorMat.copy()\n",
    "doorMat2[openXY[0][desNs],openN] = np.nan\n",
    "print(doorMat2)"
   ]
  },
  {
   "cell_type": "code",
   "execution_count": 114,
   "metadata": {
    "collapsed": false
   },
   "outputs": [
    {
     "name": "stdout",
     "output_type": "stream",
     "text": [
      "[[False  True]\n",
      " [False  True]\n",
      " [False  True]\n",
      " [False  True]\n",
      " [False  True]\n",
      " [ True False]\n",
      " [False  True]\n",
      " [False  True]\n",
      " [False  True]\n",
      " [ True False]]\n",
      "[2 2 2 2 2 1 2 2 2 1]\n",
      "[ 0.  1.  1.  1.  1.  0.  1.  0.  1.  0.]\n"
     ]
    },
    {
     "data": {
      "text/plain": [
       "0.59999999999999998"
      ]
     },
     "execution_count": 114,
     "metadata": {},
     "output_type": "execute_result"
    }
   ],
   "source": [
    "# do switch \n",
    "print(~np.isnan(doorMat2[:,1:]))\n",
    "#print(np.nonzero(~np.isnan(doorMat2[:,1:])))\n",
    "#print(np.nonzero(~np.isnan(doorMat2[:,1:]))[1])\n",
    "\n",
    "switchToNs = np.nonzero(~np.isnan(doorMat2[:,1:]))[1]+1\n",
    "print(switchToNs)\n",
    "doorMat2[switchToNs,:]\n",
    "\n",
    "goatV = np.choose(switchToNs, doorMat2.T)\n",
    "print(goatV)\n",
    "np.sum(goatV)/len(goatV)\n"
   ]
  },
  {
   "cell_type": "code",
   "execution_count": 116,
   "metadata": {
    "collapsed": false
   },
   "outputs": [
    {
     "name": "stdout",
     "output_type": "stream",
     "text": [
      "10 loops, best of 3: 105 ms per loop\n"
     ]
    }
   ],
   "source": [
    "%%timeit\n",
    "# monte carlo with vectors\n",
    "# full code\n",
    "\n",
    "\n",
    "nReps = 10000\n",
    "doorMat = np.tile(a_([0,1,1], 'f8'), reps=[nReps,1])\n",
    "shuffleNs = np.vstack([np.random.permutation(3) for x in range(nReps)])\n",
    "doorMat = np.take(doorMat, shuffleNs)\n",
    "\n",
    "# open\n",
    "openXY = np.nonzero(doorMat[:,1:]==1)\n",
    "np.unique(openXY[0], return_index=True)\n",
    "desNs=np.unique(openXY[0], return_index=True)[1]\n",
    "openN = openXY[1][desNs]+1\n",
    "doorMat2 = doorMat.copy()\n",
    "doorMat2[openXY[0][desNs],openN] = np.nan\n",
    "\n",
    "# switch\n",
    "switchToNs = np.nonzero(~np.isnan(doorMat2[:,1:]))[1]+1\n",
    "doorMat2[switchToNs,:]\n",
    "\n",
    "# calc\n",
    "goatV = np.choose(switchToNs, doorMat2.T)\n",
    "np.sum(goatV)/len(goatV)"
   ]
  },
  {
   "cell_type": "markdown",
   "metadata": {},
   "source": [
    "# simple regression\n"
   ]
  },
  {
   "cell_type": "code",
   "execution_count": 124,
   "metadata": {
    "collapsed": false
   },
   "outputs": [
    {
     "name": "stdout",
     "output_type": "stream",
     "text": [
      "[  549   549  -125  -804   549   549   549   550   549   549   549   550\n",
      "   549 -2762   549   550   550 -1667   549   549   550   549   550   549\n",
      "  -555 -1020   549   549   550   549   550   549  -748   549   550   549\n",
      "   549   549   549 -1301   549   550   333   549  -500   247   549   238\n",
      "  -547   252   277    -9   391   550   418  -226   260   315  -580   549\n",
      "   549   549  -452   549   550  -130   278   320   302  -680   549   550\n",
      " -1135   549   550   550  -608   549   301   112   -76 -1116   282   371\n",
      "   211  -545   292   273   257   209  -384   302  -177   235   265 -1163\n",
      "   233   549   243   269   359 -1147   424   234   174   191  -459   309\n",
      "   183   277   266   237  -190 -1196   550 -1003   549   263   228   213\n",
      "   193   285  -581   325   266   303   257   291 -1072   368   234 -1675\n",
      "   317   219   237  -459   236   255  -392 -1792   549   233   346 -1830\n",
      "   323  -843 -2230   272  -555   414   337 -1676   364   231   230  -395\n",
      "   320   443 -1403   421    98   245  -584   269   235   283   190 -1600\n",
      "  -934   225  -108   245    96   232   226 -1518   306 -1590   550   342\n",
      "   236   241  -180  -697   253   223   257   151   549   306   549 -1192\n",
      "  -788   550   550  -766 -3803   344   306   242   203   220 -1521   292\n",
      " -1092   540   550 -1934   280   278   238   239   220   293  -204 -1774\n",
      "   550   550   270  -910   549   244   413   332   299   203   260   224\n",
      "    89 -1083   224   284  -874   299   140   215   243   138  -668   217\n",
      "   268    12   214 -1723 -1195   220 -2520   550   285   252   273  -940\n",
      " -1253  -418   549 -3488   549   227   245   325   198  -203  -676   214\n",
      "  -378  -987   199   264  -445   251   224 -1538 -1064   399   112  -967\n",
      " -2067   549 -2380   546   550 -1811   388  -474   550   550   550   346\n",
      "   550   387  -279   550   340   448   334   281   298   321   287   231\n",
      "   302 -2095   270   374  -781   358   159   311   289   -78]\n"
     ]
    }
   ],
   "source": [
    "# load data\n",
    "import scipy.io\n",
    "m0 = scipy.io.loadmat('./ExampleData/data2-i1114-161031.mat')\n",
    "\n",
    "input = m0['input']\n",
    "reactTimesV = np.hstack([x[0][0] for x in input['reactTimesMs'][0][0][0]])\n",
    "print(reactTimesV)\n",
    "\n",
    "tGratingContrast = np.hstack([x[0][0] for x in input['tGratingContrast'][0][0][0]])\n",
    "trialOutcome = np.hstack([x[0] for x in input['trialOutcomeCell'][0][0][0]])\n",
    "successIx = trialOutcome == 'success'\n",
    "\n",
    "\n",
    "\n",
    "#print(1)"
   ]
  },
  {
   "cell_type": "code",
   "execution_count": 125,
   "metadata": {
    "collapsed": false
   },
   "outputs": [
    {
     "data": {
      "text/plain": [
       "[<matplotlib.lines.Line2D at 0x10cc292b0>]"
      ]
     },
     "execution_count": 125,
     "metadata": {},
     "output_type": "execute_result"
    },
    {
     "data": {
      "image/png": "[encoded data removed]",
      "text/plain": [
       "<matplotlib.figure.Figure at 0x11d4dee80>"
      ]
     },
     "metadata": {},
     "output_type": "display_data"
    }
   ],
   "source": [
    "import seaborn as sns\n",
    "plt.plot(reactTimesV, '.')"
   ]
  },
  {
   "cell_type": "code",
   "execution_count": 128,
   "metadata": {
    "collapsed": false
   },
   "outputs": [
    {
     "data": {
      "text/plain": [
       "[<matplotlib.lines.Line2D at 0x11afe8278>]"
      ]
     },
     "execution_count": 128,
     "metadata": {},
     "output_type": "execute_result"
    },
    {
     "data": {
      "image/png": "[encoded data removed]",
      "text/plain": [
       "<matplotlib.figure.Figure at 0x103424898>"
      ]
     },
     "metadata": {},
     "output_type": "display_data"
    }
   ],
   "source": [
    "plt.plot(reactTimesV[successIx & (reactTimesV>0)], '.')"
   ]
  },
  {
   "cell_type": "code",
   "execution_count": 135,
   "metadata": {
    "collapsed": false
   },
   "outputs": [
    {
     "data": {
      "text/plain": [
       "<matplotlib.text.Text at 0x10c97df28>"
      ]
     },
     "execution_count": 135,
     "metadata": {},
     "output_type": "execute_result"
    },
    {
     "data": {
      "image/png": "[encoded data removed]",
      "text/plain": [
       "<matplotlib.figure.Figure at 0x11afd1978>"
      ]
     },
     "metadata": {},
     "output_type": "display_data"
    }
   ],
   "source": [
    "desIx = (successIx) & (reactTimesV > 0)\n",
    "plt.plot(tGratingContrast[desIx], reactTimesV[desIx], '.')\n",
    "plt.xlabel('contrast')\n",
    "plt.ylabel('RT (ms)')"
   ]
  },
  {
   "cell_type": "code",
   "execution_count": 136,
   "metadata": {
    "collapsed": false
   },
   "outputs": [
    {
     "name": "stdout",
     "output_type": "stream",
     "text": [
      "(150,)\n",
      "0.000932001752653\n",
      "LinregressResult(slope=-0.0527081203609049, intercept=272.54675496688742, rvalue=-0.030528703749962065, pvalue=0.71074377116856358, stderr=0.14185212000559383)\n"
     ]
    }
   ],
   "source": [
    "import scipy.stats\n",
    "#xs = tGratingContrast[desIx]\n",
    "ys = reactTimesV[desIx] \n",
    "#ys = ys + np.linspace(0,100,len(ys)); print('Adding fake trend')\n",
    "\n",
    "\n",
    "xs = np.r_[0:len(ys)]\n",
    "\n",
    "print(np.shape(ys))\n",
    "\n",
    "#ys = reactTimesV[successIx & (reactTimesV>0)]\n",
    "res = scipy.stats.linregress(xs,ys)\n",
    "\n",
    "print(res.rvalue**2)\n",
    "print(res)\n"
   ]
  },
  {
   "cell_type": "code",
   "execution_count": 139,
   "metadata": {
    "collapsed": false
   },
   "outputs": [
    {
     "data": {
      "text/plain": [
       "[<matplotlib.lines.Line2D at 0x10c7f5470>]"
      ]
     },
     "execution_count": 139,
     "metadata": {},
     "output_type": "execute_result"
    },
    {
     "data": {
      "image/png": "[encoded data removed]",
      "text/plain": [
       "<matplotlib.figure.Figure at 0x10c7f5550>"
      ]
     },
     "metadata": {},
     "output_type": "display_data"
    }
   ],
   "source": [
    "plt.plot(xs,ys,'.')\n",
    "xs0 = np.linspace(0,0.5,100)\n",
    "plt.plot(xs0, xs0*res.slope+res.intercept, 'k')"
   ]
  },
  {
   "cell_type": "markdown",
   "metadata": {},
   "source": [
    "## polyfit"
   ]
  },
  {
   "cell_type": "code",
   "execution_count": 140,
   "metadata": {
    "collapsed": false,
    "scrolled": true
   },
   "outputs": [
    {
     "data": {
      "text/plain": [
       "[<matplotlib.lines.Line2D at 0x11afdc438>]"
      ]
     },
     "execution_count": 140,
     "metadata": {},
     "output_type": "execute_result"
    },
    {
     "data": {
      "image/png": "[encoded data removed]",
      "text/plain": [
       "<matplotlib.figure.Figure at 0x10c9105f8>"
      ]
     },
     "metadata": {},
     "output_type": "display_data"
    }
   ],
   "source": [
    "%matplotlib inline\n",
    "coeff = np.polyfit(xs, ys,2)\n",
    "plt.plot(xs0, coeff[0]*xs0**2 + coeff[1]*xs0**1 + coeff[2])\n",
    "plt.plot(xs, ys, '.')"
   ]
  },
  {
   "cell_type": "code",
   "execution_count": 130,
   "metadata": {
    "collapsed": true
   },
   "outputs": [],
   "source": [
    "%qtconsole"
   ]
  },
  {
   "cell_type": "markdown",
   "metadata": {},
   "source": [
    "## lowess"
   ]
  },
  {
   "cell_type": "code",
   "execution_count": 141,
   "metadata": {
    "collapsed": false
   },
   "outputs": [
    {
     "data": {
      "text/plain": [
       "(0, 0.6)"
      ]
     },
     "execution_count": 141,
     "metadata": {},
     "output_type": "execute_result"
    },
    {
     "data": {
      "image/png": "[encoded data removed]",
      "text/plain": [
       "<matplotlib.figure.Figure at 0x10c5b70f0>"
      ]
     },
     "metadata": {},
     "output_type": "display_data"
    }
   ],
   "source": [
    "import statsmodels.nonparametric.api\n",
    "a_ = np.array\n",
    "smY = statsmodels.nonparametric.api.lowess(a_(ys, dtype='f8'),\n",
    "                                               a_(xs,dtype='f8'),\n",
    "                                               0.9,\n",
    "                                               it=10,\n",
    "                                               missing='drop')\n",
    "plt.plot(smY[:,0], smY[:,1])\n",
    "plt.plot(xs,ys,'.')\n",
    "plt.xlim((0,0.6))"
   ]
  },
  {
   "cell_type": "code",
   "execution_count": null,
   "metadata": {
    "collapsed": true
   },
   "outputs": [],
   "source": []
  },
  {
   "cell_type": "code",
   "execution_count": null,
   "metadata": {
    "collapsed": true
   },
   "outputs": [],
   "source": []
  },
  {
   "cell_type": "code",
   "execution_count": null,
   "metadata": {
    "collapsed": true
   },
   "outputs": [],
   "source": []
  },
  {
   "cell_type": "code",
   "execution_count": 146,
   "metadata": {
    "collapsed": false
   },
   "outputs": [
    {
     "name": "stdout",
     "output_type": "stream",
     "text": [
      "Array too short, exiting\n"
     ]
    },
    {
     "ename": "IndexError",
     "evalue": "index 10 is out of bounds for axis 0 with size 3",
     "output_type": "error",
     "traceback": [
      "\u001b[0;31m---------------------------------------------------------------------------\u001b[0m",
      "\u001b[0;31mIndexError\u001b[0m                                Traceback (most recent call last)",
      "\u001b[0;32m<ipython-input-146-104ffc442d04>\u001b[0m in \u001b[0;36m<module>\u001b[0;34m()\u001b[0m\n\u001b[1;32m      2\u001b[0m \u001b[0;31m#arr[10]\u001b[0m\u001b[0;34m\u001b[0m\u001b[0;34m\u001b[0m\u001b[0m\n\u001b[1;32m      3\u001b[0m \u001b[0;32mtry\u001b[0m\u001b[0;34m:\u001b[0m\u001b[0;34m\u001b[0m\u001b[0m\n\u001b[0;32m----> 4\u001b[0;31m     \u001b[0marr\u001b[0m\u001b[0;34m[\u001b[0m\u001b[0;36m10\u001b[0m\u001b[0;34m]\u001b[0m\u001b[0;34m\u001b[0m\u001b[0m\n\u001b[0m\u001b[1;32m      5\u001b[0m \u001b[0;32mexcept\u001b[0m \u001b[0mIndexError\u001b[0m\u001b[0;34m:\u001b[0m\u001b[0;34m\u001b[0m\u001b[0m\n\u001b[1;32m      6\u001b[0m     \u001b[0mprint\u001b[0m\u001b[0;34m(\u001b[0m\u001b[0;34m'Array too short, exiting'\u001b[0m\u001b[0;34m)\u001b[0m\u001b[0;34m\u001b[0m\u001b[0m\n",
      "\u001b[0;31mIndexError\u001b[0m: index 10 is out of bounds for axis 0 with size 3"
     ]
    }
   ],
   "source": [
    "arr = np.zeros(3,)\n",
    "#arr[10]\n",
    "try:\n",
    "    arr[10]\n",
    "except IndexError:\n",
    "    print('Array too short, exiting')\n",
    "    raise\n"
   ]
  },
  {
   "cell_type": "code",
   "execution_count": null,
   "metadata": {
    "collapsed": true
   },
   "outputs": [],
   "source": [
    "import os\n",
    "try\n",
    "    os.mkdir('new_dir')\n",
    "except ExistsError:\n",
    "    pass\n",
    "\n"
   ]
  },
  {
   "cell_type": "code",
   "execution_count": 152,
   "metadata": {
    "collapsed": false
   },
   "outputs": [
    {
     "name": "stdout",
     "output_type": "stream",
     "text": [
      "once\n",
      "once\n",
      "once\n",
      "once\n",
      "once\n",
      "once\n",
      "once\n",
      "once\n",
      "once\n",
      "once\n",
      "1 1 1 1 1 1 1 1 1 1 "
     ]
    }
   ],
   "source": [
    "def f():\n",
    "    print('once')\n",
    "def g():\n",
    "    print('1 ', end=\"\")\n",
    "\n",
    "def runTenTimes(functionIn):\n",
    "    for a in range(10):\n",
    "        functionIn()\n",
    "\n",
    "\n",
    "runTenTimes(f)\n",
    "runTenTimes(g)\n",
    "\n"
   ]
  }
 ],
 "metadata": {
  "kernelspec": {
   "display_name": "Python 3",
   "language": "python",
   "name": "python3"
  },
  "language_info": {
   "codemirror_mode": {
    "name": "ipython",
    "version": 3
   },
   "file_extension": ".py",
   "mimetype": "text/x-python",
   "name": "python",
   "nbconvert_exporter": "python",
   "pygments_lexer": "ipython3",
   "version": "3.5.1"
  }
 },
 "nbformat": 4,
 "nbformat_minor": 0
}
