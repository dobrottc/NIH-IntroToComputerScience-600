{
 "cells": [
  {
   "cell_type": "markdown",
   "metadata": {},
   "source": [
    "# Introduction to Git\n",
    "## Use git for tracking your own work, and for sharing with others\n",
    "\n",
    "- Mark Histed\n",
    "- mark.histed@nih.gov\n",
    "\n",
    "\n",
    "161106: created\n",
    "\n"
   ]
  },
  {
   "cell_type": "markdown",
   "metadata": {},
   "source": [
    "## Boring setup details (for git shell)\n",
    "\n",
    "Personalize git so it knows who is making changes:\n",
    "\n",
    "    git config --global user.name \"Your Name\"\n",
    "    git config --global user.email \"your_email@whatever.com\"\n",
    "\n",
    "\n",
    "\n",
    "------------\n",
    "\n",
    "Add an alias that helps you track the history using character based \"graphics\".\n",
    "\n",
    "Just copy the following into ~/.gitconfig for your full color [git lola action](http://blog.kfish.org/2010/04/git-lola.html):\n",
    "\n",
    "    [alias]\n",
    "            lol = log --graph --decorate --pretty=oneline --abbrev-commit\n",
    "            lola = log --graph --decorate --pretty=oneline --abbrev-commit --all\n",
    "    [color]\n",
    "            branch = auto\n",
    "            diff = auto\n",
    "            interactive = auto\n",
    "            status = auto"
   ]
  },
  {
   "cell_type": "markdown",
   "metadata": {},
   "source": [
    "# Why git?\n",
    "\n",
    "Git is version control.\n",
    "\n",
    "## Why version control?\n",
    "\n",
    "1. Version control helps you manage your own changes, organize what you did in the past, and roll back changes that don't work out.\n",
    "2. Version control helps you collaborate with others.  In modern science and data science, version control is mandatory to work with collaborators both local and global.  While several other version control systems are used, git is the largest and the standard.\n",
    "\n",
    "## Git vs. github\n",
    "\n",
    "- **git** is software and a command line tool.  (Tower is a good Mac GUI client that can be used instead of the command line tool.)\n",
    "- **github.com** is a website.  It hosts remote git repositories.  You don't need to use github with git, but we will.\n",
    "\n",
    "## Terms\n",
    "\n",
    "- Repository\n",
    "- Working directory\n",
    "\n",
    "\n",
    "------\n",
    "\n",
    "\n",
    "1. *Example: Look at repo, git status.  Make a change.  Remove it.*\n",
    "2. *Example: Make a change.  Keep it, add/commit.  Push it to the server for everyone to see*\n",
    "3. *Example: show some changes on github.  List of commits.  Current versions.  Blame.*"
   ]
  },
  {
   "cell_type": "code",
   "execution_count": null,
   "metadata": {
    "collapsed": true
   },
   "outputs": [],
   "source": []
  },
  {
   "cell_type": "markdown",
   "metadata": {},
   "source": [
    "# Other resources\n",
    "- This [git cheat sheet](http://rogerdudler.github.io/git-guide/files/git_cheat_sheet.pdf) is pretty good for the basic commands.\n",
    "- Main [git website](https://git-scm.com/).\n",
    "- A [quick git tutorial](https://try.github.io/levels/1/challenges/1) from github.com.\n",
    "- [Git reference page](http://gitref.org/index.html), a good concise summary of a lot of commands.\n",
    "- The [official git book](https://git-scm.com/book/en/v2). This is worth a read, in my view.  But be ready to spend a few hours of time on Chapters 1,2, and 3 to get the basic commands down.\n",
    "- The [git tutorial from Bitbucket Cloud](https://www.atlassian.com/git/tutorials/what-is-version-control) is interesting.  Bitbucket is a competitor to github, so I'd largely ignore when they tell you to send your changes to Bitbucket -- use github.  The best chapters are \"Getting Started\" and \"Collaborating\".  You can ignore anything about Subversion (a prior competitor to git that is now fairly obsolete.)\n",
    "\n",
    "\n",
    "## Key commands and tasks to know\n",
    "- Make a change: add, commit\n",
    "- Roll back a non-committed change: checkout, reset\n",
    "- Roll back a committed change: git branch (Tower: reset HEAD)\n",
    "- Merge two branches: merge\n",
    "- Merge a local and remote branch: pull\n",
    "- Push your latest changes onto the server: push\n",
    "- Copy a repo to your computer for the first time: clone\n",
    "\n",
    "### Other commands I use from time to time\n",
    "- Create a new branch: branch\n",
    "- Grab a single commit onto another branch: cherry-pick (when you have made mistakes, this can sometimes help fix them)\n",
    "- Store your current changes *temporarily* so you can change branches, etc.: stash\n",
    "  - Don't count on these stashes lasting very long; they can get lost in the process of a few merges.  Use them once, then delete.  If you need long-lived stashes, use actual commits onto a new branch.\n",
    "\n",
    "\n",
    "\n",
    "\n",
    "\n",
    "\n",
    "## My general advice about learning git\n",
    "- Ignore the online noise about **merge vs. rebase** - it's irrelevant until you are an advanced user.  Never use rebase until you're an advanced user.\n",
    "- Mostly ignore the **debates about git \"workflows\"** until you are an advanced user.  Workflows refer to the number of branches teams keep open, which branch new commits go to, and when and how merging happens between branches.  For example, one workflow is to keep `master` as the stable version of your code, make new commits to another branch, say `Run/CurrentTest`, and after testing, merge `Run/CurrentTest` into `master`.  Many code shops use more complicated workflows, with more branches, daily automatic merges, and daily automated tests.  For new projects we can discuss worksflows, but initially you can just emulate what we do.\n",
    "- Ignore whether your merges are fast-forward or not.  It's not important until you are an advanced user (if ever).\n",
    "- **Keep backups**.  It is possible to bork your entire repository with git.  If you ever use --force, it's possible to bork the server too.  (Don't listen to online sources saying git always keeps old changes.  It does, but sometimes not in a way that's worth spending the hours it would take to recover.) Time Machine keeps you safe.  Back up daily. \n",
    "- Understanding git is hard.  Spend some time thinking about what's going on.  Stare at the history graphs and figure out how they work.  Learning git is worth it, it will more than make up for the time you spend learning in the time saved working with others and organizing your own code.\n",
    "- Ask me questions if you are confused.\n",
    "\n",
    "\n",
    "## Need to check (MH)\n",
    "\n",
    "\n",
    "- Download git for Mac?  https://git-scm.com/download/mac\n",
    "- Tower"
   ]
  }
 ],
 "metadata": {
  "kernelspec": {
   "display_name": "Python 3",
   "language": "python",
   "name": "python3"
  },
  "language_info": {
   "codemirror_mode": {
    "name": "ipython",
    "version": 3
   },
   "file_extension": ".py",
   "mimetype": "text/x-python",
   "name": "python",
   "nbconvert_exporter": "python",
   "pygments_lexer": "ipython3",
   "version": "3.5.1"
  }
 },
 "nbformat": 4,
 "nbformat_minor": 0
}
