{
 "cells": [
  {
   "cell_type": "markdown",
   "metadata": {},
   "source": [
    "## Notebook setup"
   ]
  },
  {
   "cell_type": "code",
   "execution_count": null,
   "metadata": {
    "collapsed": false
   },
   "outputs": [],
   "source": [
    "# always do this first!\n",
    "%load_ext autoreload\n",
    "%autoreload 2"
   ]
  },
  {
   "cell_type": "code",
   "execution_count": 51,
   "metadata": {
    "collapsed": true
   },
   "outputs": [],
   "source": [
    "%qtconsole"
   ]
  },
  {
   "cell_type": "markdown",
   "metadata": {},
   "source": [
    "------------"
   ]
  },
  {
   "cell_type": "code",
   "execution_count": 4,
   "metadata": {
    "collapsed": false
   },
   "outputs": [
    {
     "name": "stdout",
     "output_type": "stream",
     "text": [
      "words.txt is present\n"
     ]
    }
   ],
   "source": [
    "# unzip the words.txt file.  You only need to do this once\n",
    "import os\n",
    "if not os.path.exists('words.txt'):\n",
    "    os.system('unzip words.txt.zip')\n",
    "    print('Unzipped')\n",
    "else:\n",
    "    print('words.txt is present')"
   ]
  },
  {
   "cell_type": "code",
   "execution_count": 5,
   "metadata": {
    "collapsed": false
   },
   "outputs": [
    {
     "name": "stdout",
     "output_type": "stream",
     "text": [
      "Loading word list from file...\n",
      "   55900 words loaded.\n"
     ]
    }
   ],
   "source": [
    "%run ps4.py"
   ]
  },
  {
   "cell_type": "markdown",
   "metadata": {},
   "source": [
    "## Problem 1 - code to test functions while you are writing them"
   ]
  },
  {
   "cell_type": "code",
   "execution_count": 47,
   "metadata": {
    "collapsed": true
   },
   "outputs": [],
   "source": [
    "# run this first \n",
    "import ps4"
   ]
  },
  {
   "cell_type": "markdown",
   "metadata": {},
   "source": [
    "### build_coder() test\n",
    "This is an example of how to test a function in ps4 using the notebook.\n",
    "In this cell we paste the desired output.  In the next code cell we call the function.\n",
    "This is not a comprehensive test, since we test only one input.  But it's a rough way to make sure your code is working as you write it.\n",
    "\n",
    "    >>> build_coder(3)\n",
    "    {' ': 'c', 'A': 'D', 'C': 'F', 'B': 'E', 'E': 'H', 'D': 'G', 'G': 'J',\n",
    "    'F': 'I', 'I': 'L', 'H': 'K', 'K': 'N', 'J': 'M', 'M': 'P', 'L': 'O',\n",
    "    'O': 'R', 'N': 'Q', 'Q': 'T', 'P': 'S', 'S': 'V', 'R': 'U', 'U': 'X',\n",
    "    'T': 'W', 'W': 'Z', 'V': 'Y', 'Y': 'A', 'X': ' ', 'Z': 'B', 'a': 'd',\n",
    "    'c': 'f', 'b': 'e', 'e': 'h', 'd': 'g', 'g': 'j', 'f': 'i', 'i': 'l',\n",
    "    'h': 'k', 'k': 'n', 'j': 'm', 'm': 'p', 'l': 'o', 'o': 'r', 'n': 'q',\n",
    "    'q': 't', 'p': 's', 's': 'v', 'r': 'u', 'u': 'x', 't': 'w', 'w': 'z',\n",
    "    'v': 'y', 'y': 'a', 'x': ' ', 'z': 'b'}\n",
    "    (The order of the key-value pairs may be different.)"
   ]
  },
  {
   "cell_type": "code",
   "execution_count": 65,
   "metadata": {
    "collapsed": false
   },
   "outputs": [
    {
     "name": "stdout",
     "output_type": "stream",
     "text": [
      "Loading word list from file...\n",
      "   55900 words loaded.\n",
      "[(' ', 'c'), ('A', 'D'), ('B', 'E'), ('C', 'F'), ('D', 'G'), ('E', 'H'), ('F', 'I'), ('G', 'J'), ('H', 'K'), ('I', 'L'), ('J', 'M'), ('K', 'N'), ('L', 'O'), ('M', 'P'), ('N', 'Q'), ('O', 'R'), ('P', 'S'), ('Q', 'T'), ('R', 'U'), ('S', 'V'), ('T', 'W'), ('U', 'X'), ('V', 'Y'), ('W', 'Z'), ('X', ' '), ('Y', 'A'), ('Z', 'B'), ('a', 'd'), ('b', 'e'), ('c', 'f'), ('d', 'g'), ('e', 'h'), ('f', 'i'), ('g', 'j'), ('h', 'k'), ('i', 'l'), ('j', 'm'), ('k', 'n'), ('l', 'o'), ('m', 'p'), ('n', 'q'), ('o', 'r'), ('p', 's'), ('q', 't'), ('r', 'u'), ('s', 'v'), ('t', 'w'), ('u', 'x'), ('v', 'y'), ('w', 'z'), ('x', ' '), ('y', 'a'), ('z', 'b')]\n"
     ]
    }
   ],
   "source": [
    "coder = ps4.build_coder(3)\n",
    "#print(coder)  # you can do this, but dicts in python have keys in random order, so it will be tough to read\n",
    "# convert items of dict to a list and print sorted version of list\n",
    "print(sorted(coder.items()))\n"
   ]
  },
  {
   "cell_type": "markdown",
   "metadata": {},
   "source": [
    "### 2nd example: apply_shift() test\n",
    "(You will need to set up test cells for the other functions yourself)\n",
    "\n",
    "Example output from PS4 assignment:\n",
    "\n",
    "    >>> apply_shift('This is a test.', 8)\n",
    "    'Apq hq hiham a.'"
   ]
  },
  {
   "cell_type": "code",
   "execution_count": 78,
   "metadata": {
    "collapsed": false
   },
   "outputs": [
    {
     "name": "stdout",
     "output_type": "stream",
     "text": [
      "Loading word list from file...\n",
      "   55900 words loaded.\n",
      "Apq hq hiham a.\n"
     ]
    }
   ],
   "source": [
    "print(ps4.apply_shift('This is a test.', 8))\n",
    "# should print 'Apq hq hiham a.'"
   ]
  },
  {
   "cell_type": "markdown",
   "metadata": {},
   "source": [
    "-------------"
   ]
  },
  {
   "cell_type": "markdown",
   "metadata": {},
   "source": [
    "### Problem 2 test code\n",
    "Test cell for find_best_shift\n",
    "\n",
    "    >>> s = apply_coder('Hello, world!', build_encoder(8))\n",
    "    >>> s\n",
    "    'Pmttw,hdwztl!'\n",
    "    >>> find_best_shift(wordlist, s) returns \n",
    "    8\n",
    "    >>> apply_coder(s, build_decoder(8)) returns\n",
    "    'Hello, world!'"
   ]
  },
  {
   "cell_type": "code",
   "execution_count": 118,
   "metadata": {
    "collapsed": false
   },
   "outputs": [
    {
     "name": "stdout",
     "output_type": "stream",
     "text": [
      "Pmttw,hdwztl!\n",
      "8 - should be 8\n",
      "below two lines should match:\n",
      "Hello, world!\n",
      "Hello, world!\n"
     ]
    }
   ],
   "source": [
    "s = ps4.apply_coder('Hello, world!', ps4.build_encoder(8))\n",
    "print(s)\n",
    "\n",
    "best_shift = ps4.find_best_shift(ps4.wordlist, s)\n",
    "print(best_shift, '- should be 8')\n",
    "\n",
    "print('below two lines should match:')\n",
    "print(ps4.apply_coder(s, ps4.build_decoder(8)))\n",
    "print(ps4.apply_coder(s, ps4.build_decoder(best_shift)))"
   ]
  },
  {
   "cell_type": "markdown",
   "metadata": {},
   "source": [
    "---------\n",
    "# Some idiomatic ways to accomplish things in Python\n",
    "\n"
   ]
  },
  {
   "cell_type": "code",
   "execution_count": 119,
   "metadata": {
    "collapsed": false
   },
   "outputs": [
    {
     "name": "stdout",
     "output_type": "stream",
     "text": [
      "lkjdfkjweiru23k6\n"
     ]
    }
   ],
   "source": [
    "# initialize a list of specified size\n",
    "list_with_27_empty_entries = [None]*27\n",
    "\n",
    "\n",
    "# note on removing characters from strings - short ways to do this are an exercise in StackOverflow googling.\n",
    "# you can use a brute force approach with .replace()\n",
    "bad_chars = '54'\n",
    "full_string = 'lkjdfkjweiru523k46545454'\n",
    "for c in bad_chars:\n",
    "    full_string = full_string.replace(c, '')  # note .replace() returns a new string, doesn't mutate the orig one\n",
    "print(full_string)\n",
    "\n",
    "\n"
   ]
  },
  {
   "cell_type": "code",
   "execution_count": 92,
   "metadata": {
    "collapsed": false
   },
   "outputs": [
    {
     "name": "stdout",
     "output_type": "stream",
     "text": [
      "0 a\n",
      "1 b\n",
      "2 c\n",
      "3 d\n",
      "4 e\n"
     ]
    }
   ],
   "source": [
    "# The ideal solution doesn't necessarily need this, but it may be useful for you to know \n",
    "\n",
    "# iteration with a counter and an item\n",
    "for (iLetter,tLetter) in enumerate('abcde'):\n",
    "    print(iLetter,tLetter)"
   ]
  },
  {
   "cell_type": "code",
   "execution_count": null,
   "metadata": {
    "collapsed": true
   },
   "outputs": [],
   "source": []
  },
  {
   "cell_type": "markdown",
   "metadata": {},
   "source": []
  },
  {
   "cell_type": "code",
   "execution_count": null,
   "metadata": {
    "collapsed": true
   },
   "outputs": [],
   "source": []
  }
 ],
 "metadata": {
  "kernelspec": {
   "display_name": "Python [brian_mkl30]",
   "language": "python",
   "name": "Python [brian_mkl30]"
  },
  "language_info": {
   "codemirror_mode": {
    "name": "ipython",
    "version": 3
   },
   "file_extension": ".py",
   "mimetype": "text/x-python",
   "name": "python",
   "nbconvert_exporter": "python",
   "pygments_lexer": "ipython3",
   "version": "3.5.2"
  }
 },
 "nbformat": 4,
 "nbformat_minor": 0
}
