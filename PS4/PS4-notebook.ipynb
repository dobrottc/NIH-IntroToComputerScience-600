{
 "cells": [
  {
   "cell_type": "markdown",
   "metadata": {},
   "source": [
    "## Notebook setup"
   ]
  },
  {
   "cell_type": "code",
   "execution_count": 1,
   "metadata": {
    "collapsed": false
   },
   "outputs": [
    {
     "name": "stdout",
     "output_type": "stream",
     "text": [
      "The autoreload extension is already loaded. To reload it, use:\n",
      "  %reload_ext autoreload\n"
     ]
    }
   ],
   "source": [
    "# always do this first!\n",
    "%load_ext autoreload\n",
    "%autoreload 2"
   ]
  },
  {
   "cell_type": "markdown",
   "metadata": {},
   "source": [
    "------------"
   ]
  },
  {
   "cell_type": "code",
   "execution_count": 4,
   "metadata": {
    "collapsed": false
   },
   "outputs": [
    {
     "name": "stdout",
     "output_type": "stream",
     "text": [
      "words.txt is present\n"
     ]
    }
   ],
   "source": [
    "# unzip the words.txt file.  You only need to do this once\n",
    "import os\n",
    "if not os.path.exists('words.txt'):\n",
    "    os.system('unzip words.txt.zip')\n",
    "    print('Unzipped')\n",
    "else:\n",
    "    print('words.txt is present')"
   ]
  },
  {
   "cell_type": "code",
   "execution_count": 5,
   "metadata": {
    "collapsed": false
   },
   "outputs": [
    {
     "name": "stdout",
     "output_type": "stream",
     "text": [
      "Loading word list from file...\n",
      "   55900 words loaded.\n"
     ]
    }
   ],
   "source": [
    "%run ps4.py"
   ]
  },
  {
   "cell_type": "markdown",
   "metadata": {},
   "source": [
    "### Problem 1.\n",
    "Below cell: code to test apply_shift() while you are writing it.  \n",
    "\n",
    "Example from PS4 assignment:\n",
    "\n",
    "    >>> apply_shift('This is a test.', 8)\n",
    "    'Apq hq hiham a.'\n",
    "\n"
   ]
  },
  {
   "cell_type": "code",
   "execution_count": 3,
   "metadata": {
    "collapsed": false
   },
   "outputs": [
    {
     "name": "stdout",
     "output_type": "stream",
     "text": [
      "Loading word list from file...\n",
      "   55900 words loaded.\n"
     ]
    },
    {
     "data": {
      "text/plain": [
       "'Apq hq hiham a.'"
      ]
     },
     "execution_count": 3,
     "metadata": {},
     "output_type": "execute_result"
    }
   ],
   "source": [
    "import ps4\n",
    "\n",
    "ps4.apply_shift('This is a test.', 8)"
   ]
  },
  {
   "cell_type": "code",
   "execution_count": null,
   "metadata": {
    "collapsed": true
   },
   "outputs": [],
   "source": []
  },
  {
   "cell_type": "code",
   "execution_count": 6,
   "metadata": {
    "collapsed": false
   },
   "outputs": [
    {
     "name": "stdout",
     "output_type": "stream",
     "text": [
      "Loading word list from file...\n",
      "   55900 words loaded.\n"
     ]
    },
    {
     "data": {
      "text/plain": [
       "'JufYkaolfapxQdrnzmasmRyrpfdvpmEurrb?'"
      ]
     },
     "execution_count": 6,
     "metadata": {},
     "output_type": "execute_result"
    }
   ],
   "source": [
    "# problem 3\n",
    "# Note: I use a fancy trick here of working with strings as lists so I can slice them and replace chars.\n",
    "# You could also use arrays to do this.\n",
    "# Explain this in a recitation!\n",
    "\n",
    "ps4.apply_shifts(\"Do Androids Dream of Electric Sheep?\", [(0,6), (3, 18), (12, 16)])\n",
    "# should print   'JufYkaolfapxQdrnzmasmRyrpfdvpmEurrb?'\n",
    "\n"
   ]
  },
  {
   "cell_type": "code",
   "execution_count": null,
   "metadata": {
    "collapsed": true
   },
   "outputs": [],
   "source": []
  },
  {
   "cell_type": "markdown",
   "metadata": {},
   "source": []
  },
  {
   "cell_type": "markdown",
   "metadata": {},
   "source": [
    "------------\n",
    "My working area"
   ]
  },
  {
   "cell_type": "code",
   "execution_count": 70,
   "metadata": {
    "collapsed": false
   },
   "outputs": [
    {
     "name": "stdout",
     "output_type": "stream",
     "text": [
      "[(' ', 'c'), ('A', 'D'), ('B', 'E'), ('C', 'F'), ('D', 'G'), ('E', 'H'), ('F', 'I'), ('G', 'J'), ('H', 'K'), ('I', 'L'), ('J', 'M'), ('K', 'N'), ('L', 'O'), ('M', 'P'), ('N', 'Q'), ('O', 'R'), ('P', 'S'), ('Q', 'T'), ('R', 'U'), ('S', 'V'), ('T', 'W'), ('U', 'X'), ('V', 'Y'), ('W', 'Z'), ('X', ' '), ('Y', 'A'), ('Z', 'B'), ('a', 'd'), ('b', 'e'), ('c', 'f'), ('d', 'g'), ('e', 'h'), ('f', 'i'), ('g', 'j'), ('h', 'k'), ('i', 'l'), ('j', 'm'), ('k', 'n'), ('l', 'o'), ('m', 'p'), ('n', 'q'), ('o', 'r'), ('p', 's'), ('q', 't'), ('r', 'u'), ('s', 'v'), ('t', 'w'), ('u', 'x'), ('v', 'y'), ('w', 'z'), ('x', ' '), ('y', 'a'), ('z', 'b')]\n"
     ]
    }
   ],
   "source": [
    "print(sorted(ps4.build_encoder(3).items()))"
   ]
  },
  {
   "cell_type": "code",
   "execution_count": 71,
   "metadata": {
    "collapsed": false
   },
   "outputs": [
    {
     "name": "stdout",
     "output_type": "stream",
     "text": [
      "Loading word list from file...\n",
      "   55900 words loaded.\n",
      "[(' ', 'x'), ('A', 'Y'), ('B', 'Z'), ('C', ' '), ('D', 'A'), ('E', 'B'), ('F', 'C'), ('G', 'D'), ('H', 'E'), ('I', 'F'), ('J', 'G'), ('K', 'H'), ('L', 'I'), ('M', 'J'), ('N', 'K'), ('O', 'L'), ('P', 'M'), ('Q', 'N'), ('R', 'O'), ('S', 'P'), ('T', 'Q'), ('U', 'R'), ('V', 'S'), ('W', 'T'), ('X', 'U'), ('Y', 'V'), ('Z', 'W'), ('a', 'y'), ('b', 'z'), ('c', ' '), ('d', 'a'), ('e', 'b'), ('f', 'c'), ('g', 'd'), ('h', 'e'), ('i', 'f'), ('j', 'g'), ('k', 'h'), ('l', 'i'), ('m', 'j'), ('n', 'k'), ('o', 'l'), ('p', 'm'), ('q', 'n'), ('r', 'o'), ('s', 'p'), ('t', 'q'), ('u', 'r'), ('v', 's'), ('w', 't'), ('x', 'u'), ('y', 'v'), ('z', 'w')]\n"
     ]
    }
   ],
   "source": [
    "print(sorted(ps4.build_decoder(3).items()))"
   ]
  },
  {
   "cell_type": "code",
   "execution_count": 76,
   "metadata": {
    "collapsed": false
   },
   "outputs": [
    {
     "name": "stdout",
     "output_type": "stream",
     "text": [
      "Khoor,czruog!\n",
      "Hello, world!\n"
     ]
    }
   ],
   "source": [
    "print(ps4.apply_coder('Hello, world!', ps4.build_encoder(3)))\n",
    "print(ps4.apply_coder(\"Khoor,czruog!\", ps4.build_decoder(3)))"
   ]
  }
 ],
 "metadata": {
  "kernelspec": {
   "display_name": "Python 3",
   "language": "python",
   "name": "python3"
  },
  "language_info": {
   "codemirror_mode": {
    "name": "ipython",
    "version": 3
   },
   "file_extension": ".py",
   "mimetype": "text/x-python",
   "name": "python",
   "nbconvert_exporter": "python",
   "pygments_lexer": "ipython3",
   "version": "3.5.1"
  }
 },
 "nbformat": 4,
 "nbformat_minor": 0
}
