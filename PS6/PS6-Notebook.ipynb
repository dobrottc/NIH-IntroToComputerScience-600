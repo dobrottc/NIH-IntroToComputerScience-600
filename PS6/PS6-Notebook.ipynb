{
 "cells": [
  {
   "cell_type": "code",
   "execution_count": null,
   "metadata": {
    "collapsed": true
   },
   "outputs": [],
   "source": [
    "# Problem Set 6: Simulating robots\n",
    "# Name:\n",
    "# Collaborators:\n",
    "# Time:"
   ]
  },
  {
   "cell_type": "code",
   "execution_count": 21,
   "metadata": {
    "collapsed": true
   },
   "outputs": [],
   "source": [
    "# setup notebook\n",
    "%matplotlib inline\n",
    "%autoreload 2\n",
    "import matplotlib.pyplot as plt\n",
    "import numpy as np\n"
   ]
  },
  {
   "cell_type": "markdown",
   "metadata": {},
   "source": [
    "## Test if matplotlib / numpy is installed and working\n",
    "Run the following cell.  You should see a plot pop up."
   ]
  },
  {
   "cell_type": "code",
   "execution_count": null,
   "metadata": {
    "collapsed": false
   },
   "outputs": [],
   "source": [
    "%run ps6_pkgtest.py"
   ]
  },
  {
   "cell_type": "code",
   "execution_count": 16,
   "metadata": {
    "collapsed": false
   },
   "outputs": [
    {
     "name": "stdout",
     "output_type": "stream",
     "text": [
      "False\n",
      "12\n",
      "0\n"
     ]
    }
   ],
   "source": [
    "# Problem 1: Simple (not comprehensive) tests - add any others you find useful\n",
    "import ps6\n",
    "room = ps6.RectangularRoom(3,4)\n",
    "print(room.isTileCleaned(2,3))\n",
    "print(room.getNumTiles())\n",
    "print(room.getNumCleanedTiles())"
   ]
  },
  {
   "cell_type": "code",
   "execution_count": 24,
   "metadata": {
    "collapsed": false
   },
   "outputs": [
    {
     "data": {
      "text/plain": [
       "2"
      ]
     },
     "execution_count": 24,
     "metadata": {},
     "output_type": "execute_result"
    }
   ],
   "source": [
    "# Problem 1: simple (not comprehensive) tests for Robot\n",
    "#  add any you find useful\n",
    "import ps6\n",
    "robot = ps6.Robot(room, 1)\n",
    "robot.getRobotPosition().x"
   ]
  },
  {
   "cell_type": "code",
   "execution_count": 42,
   "metadata": {
    "collapsed": false
   },
   "outputs": [],
   "source": [
    "# Problem 2 test\n",
    "# write a test that builds a room, displays all the tile clean statuses, \n",
    "# runs StandardRobot one timestep, and displays all the tiles again\n",
    "\n",
    "# add other tests you might want here too.\n",
    "\n",
    "\n",
    "\n"
   ]
  },
  {
   "cell_type": "code",
   "execution_count": 46,
   "metadata": {
    "collapsed": false
   },
   "outputs": [
    {
     "name": "stdout",
     "output_type": "stream",
     "text": [
      "0.25\n"
     ]
    }
   ],
   "source": [
    "room = ps6.RectangularRoom(10,10)\n",
    "robot = ps6.StandardRobot(room,5)\n",
    "for i in range(5):\n",
    "    robot.updatePositionAndClean()\n",
    "print(room.getNumCleanedTiles()/room.getNumTiles())"
   ]
  },
  {
   "cell_type": "code",
   "execution_count": 66,
   "metadata": {
    "collapsed": false
   },
   "outputs": [
    {
     "name": "stdout",
     "output_type": "stream",
     "text": [
      "debug: steps each trial: array([ 39.,  45.,  36.,  36.,  39.,  34.,  28.,  60.,  39.,  32.])\n"
     ]
    },
    {
     "data": {
      "text/plain": [
       "38.799999999999997"
      ]
     },
     "execution_count": 66,
     "metadata": {},
     "output_type": "execute_result"
    }
   ],
   "source": [
    "# Problem 3 test\n",
    "\n",
    "ps6.runSimulation(num_robots=2, speed=5, width=10, height=10, \n",
    "    min_coverage=0.9, num_trials=10, robot_type=ps6.StandardRobot)\n",
    "# You may or may not use debug print statements, one example is shown\n",
    "\n",
    "# check your simulation against some of the values given in the PS6 writeup"
   ]
  },
  {
   "cell_type": "code",
   "execution_count": null,
   "metadata": {
    "collapsed": false
   },
   "outputs": [],
   "source": [
    "# problem 4 output\n",
    "import ps6\n",
    "import seaborn as sns\n",
    "ps6.showPlot1() "
   ]
  },
  {
   "cell_type": "code",
   "execution_count": null,
   "metadata": {
    "collapsed": false
   },
   "outputs": [],
   "source": [
    "# problem 4, part 2\n",
    "import ps6\n",
    "ps6.showPlot2() "
   ]
  },
  {
   "cell_type": "markdown",
   "metadata": {},
   "source": [
    "## Some syntax testing I did that you may find useful\n",
    "Put your own one-liner tests in here."
   ]
  },
  {
   "cell_type": "code",
   "execution_count": 9,
   "metadata": {
    "collapsed": false
   },
   "outputs": [
    {
     "data": {
      "text/plain": [
       "array([ 1.,  1.,  1.,  1.,  1.,  1.,  1.,  1.,  1.])"
      ]
     },
     "execution_count": 9,
     "metadata": {},
     "output_type": "execute_result"
    }
   ],
   "source": [
    "np.ones((3,3)).ravel()"
   ]
  },
  {
   "cell_type": "code",
   "execution_count": 7,
   "metadata": {
    "collapsed": false
   },
   "outputs": [
    {
     "data": {
      "text/plain": [
       "array([[ True,  True,  True],\n",
       "       [ True,  True,  True],\n",
       "       [ True,  True,  True]], dtype=bool)"
      ]
     },
     "execution_count": 7,
     "metadata": {},
     "output_type": "execute_result"
    }
   ],
   "source": [
    "np.ones((3,3)) == 1"
   ]
  },
  {
   "cell_type": "code",
   "execution_count": 25,
   "metadata": {
    "collapsed": false
   },
   "outputs": [
    {
     "data": {
      "text/plain": [
       "0"
      ]
     },
     "execution_count": 25,
     "metadata": {},
     "output_type": "execute_result"
    }
   ],
   "source": [
    "int(np.random.rand()*3)  # lots of ways to do this"
   ]
  },
  {
   "cell_type": "code",
   "execution_count": 29,
   "metadata": {
    "collapsed": false
   },
   "outputs": [
    {
     "data": {
      "text/plain": [
       "array([0, 1, 2, 3])"
      ]
     },
     "execution_count": 29,
     "metadata": {},
     "output_type": "execute_result"
    }
   ],
   "source": [
    "np.r_[0:4]"
   ]
  },
  {
   "cell_type": "code",
   "execution_count": 32,
   "metadata": {
    "collapsed": false
   },
   "outputs": [
    {
     "name": "stdout",
     "output_type": "stream",
     "text": [
      "a: 1, b: 3\n",
      "a: 2, b: 4\n",
      "a: 3, b: 9\n"
     ]
    }
   ],
   "source": [
    "for (a,b) in zip([1,2,3],[3,4,9]):\n",
    "    print ('a: %d, b: %d' % (a,b))"
   ]
  }
 ],
 "metadata": {
  "kernelspec": {
   "display_name": "Python 3",
   "language": "python",
   "name": "python3"
  },
  "language_info": {
   "codemirror_mode": {
    "name": "ipython",
    "version": 3
   },
   "file_extension": ".py",
   "mimetype": "text/x-python",
   "name": "python",
   "nbconvert_exporter": "python",
   "pygments_lexer": "ipython3",
   "version": "3.5.1"
  }
 },
 "nbformat": 4,
 "nbformat_minor": 0
}
