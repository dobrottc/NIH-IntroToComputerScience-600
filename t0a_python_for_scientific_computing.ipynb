{
 "cells": [
  {
   "cell_type": "markdown",
   "metadata": {},
   "source": [
    "# Tutuorial 0a: Python for scientific computing"
   ]
  },
  {
   "cell_type": "markdown",
   "metadata": {},
   "source": [
    "*Based on tutorials for Caltech BeBI103, by Justin Bois, edited by Mark Histed and Lauren Ryan for NIH Introduction to Computer Science and Programming.*"
   ]
  },
  {
   "cell_type": "markdown",
   "metadata": {},
   "source": [
    "*For more information, email lauren.ryan@nih.gov*"
   ]
  },
  {
   "cell_type": "markdown",
   "metadata": {},
   "source": [
    "In this tutorial, you will set up a Python computing environment for scientific computing. There are two main ways people do this.\n",
    "1. By downloading and installing package by package with tools like apt-get, pip, etc.\n",
    "2. By downloading and installing a Python distribution that contains binaries of many of the scientific packages needed. The major distributions of these are [Anaconda](https://store.continuum.io/cshop/anaconda/) and [Enthought Canopy](https://www.enthought.com/products/canopy/). Both contain IDEs.\n",
    "\n",
    "In this class, we will use Anaconda, with its associated package manager, `conda`. It has recently become the de facto package manager/distribution for scientific use. "
   ]
  },
  {
   "cell_type": "markdown",
   "metadata": {},
   "source": [
    "## Python 3\n",
    "Python is currently in version 3.5 (as of September 13, 2015). The problem is that Python 3.x is not backwards compatible with Python 2.x.  Most important scientific packages work in Python 3. We will be using python 3 in this course. \n",
    "\n",
    "For those of you who are already using Anaconda with Python 2, you can [create a Python 3 environment](http://conda.pydata.org/docs/py2or3.html#create-python-2-or-3-environments)."
   ]
  },
  {
   "cell_type": "markdown",
   "metadata": {},
   "source": [
    "## Downloading and installing Anaconda\n",
    "Downloading and installing Anaconda is simple. \n",
    "1. Go to the [Anaconda homepage](https://store.continuum.io/cshop/anaconda/) and click \"Download Anaconda.\"  \n",
    "2. You will be prompted for your email address, which you should provide.  \n",
    "3. Be sure to download Anaconda for Python 3.4 (or 3.5 if you are installing after the 2.5 release).  Do not worry if you install Python 3.4; you easily upgrade to 3.5 using `conda` when it is available.\n",
    "4. Follow the on-screen instructions for installation.\n",
    "\n",
    "That's it!  After you do that, you will have a functioning Python distribution."
   ]
  },
  {
   "cell_type": "markdown",
   "metadata": {},
   "source": [
    "## The `conda` package manager\n",
    "`conda` is a package manager for keeping all of your packages up-to-date.  It has plenty of functionality beyond our basic usage in class, which you can learn more about by reading the [docs](http://conda.pydata.org/docs/).  We will primarily be using `conda` to install and update packages.\n",
    "\n",
    "`conda` works from the command line.  To get a command line prompt, do the following.\n",
    "* **Mac**: Fire up the Terminal application.  It is typically in the `/Applications/Utilities` folder.  Otherwise, hold down Command-space bar and type \"terminal\" in the search box, and you can select the Terminal Application.\n",
    "\n",
    "Now that you have a command line prompt, you can start using `conda`.  The first thing we'll do is update `conda` itself.  To do this, enter the following on the command line:\n",
    "\n",
    "    conda update conda\n",
    "\n",
    "If `conda` is out of date and needs to be updated, you will be prompted to perform the update.  Just type `y`, and the update will proceeed.\n",
    "\n",
    "Now that `conda` is updated, we'll use it to see what packages are installed.  Type the following on the command line:\n",
    "\n",
    "    conda list\n",
    "\n",
    "This gives a list of all packages and their versions that are installed.  Now, we'll update all packages, so type the following on the command line:\n",
    "\n",
    "    conda update --all\n",
    "\n",
    "You will be prompted to perform all of the updates.  They may even be come downgrades.  This happens when there are package conflicts where one package requires an earlier version of another.  `conda` is very smart and figures all of this out for you, so you can almost always say \"yes\" (or \"`y`\") to `conda` when it prompts you.\n",
    "\n",
    "Finally, we will use `conda` to install a package that is not included in the Anaconda distribution that we would like to use.  We will install [Seaborn](http://stanford.edu/~mwaskom/software/seaborn/), which is a nice package for data visualization.  To do this, type the following on the command line:\n",
    "\n",
    "    conda install seaborn\n",
    "\n",
    "You will again be prompted to approve the installation.  Go for it!  Seaborn is pretty cool."
   ]
  },
  {
   "cell_type": "markdown",
   "metadata": {},
   "source": [
    "## Installing packages with `pip`\n",
    "Some packages are not available through `conda` for various reasons, perhaps because they have not been submitted to the Anaconda developers or are still under nascent development.  You can still install these packages and `conda` will be aware of them using `pip`, short for \"Python install Python.\"  One package we will use is [pybeeswarm](https://github.com/mgymrek/pybeeswarm), used for making beeswarm plots.  To install pybeeswarm, simple enter the following at the command line\n",
    "\n",
    "    pip install pybeeswarm\n",
    "\n",
    "This will install `pybeeswarm`, and you will be able to import it when you want to use it.\n",
    "\n",
    "`conda` is a convenient package manager for many reasons, one being that many packages contain compiled code, and `conda` installs binaries, enabling you to skip the ofter troublesome compilation step.  As you can imagine, some packages not covered by `conda` do need to be compiled on your machine.  In order to do that, you need to have compilers installed on your machine that `pip` can access to do the compilation.  A good way to do this for Macs is to install Developer Tools, which you can get from the Apple App Store for free.  For Windows you can install [the MinGW suite](http://www.mingw.org) or [Visual Studio](http://www.visualstudio.com/).  We will probably not use any packages that require compilation outside of `conda`, so you do not need to worry about this now."
   ]
  },
  {
   "cell_type": "markdown",
   "metadata": {},
   "source": [
    "## IDEs for our class\n",
    "\n",
    "For this course, all of your homework will be submitted as [Jupyter notebooks](t0b_intro_to_jupyter_notebooks.html).We will also need a text editor and a development environment for use in writing and debugging codes. We will use IDLE, Python's standard development environment and Text Wrangler as a text editor. "
   ]
  },
  {
   "cell_type": "markdown",
   "metadata": {},
   "source": [
    "### Installing Text Wrangler \n",
    "\n",
    "Go to http://www.barebones.com/products/textwrangler/download.html and download Text Wrangler. "
   ]
  },
  {
   "cell_type": "markdown",
   "metadata": {},
   "source": [
    "### Using IDLE\n",
    "\n",
    "1) Type IDLE into the command line, a shell should pop up. \n",
    "\n",
    "2) Try entering the command print \"hello world\". hello world should print below the line in the shell. \n",
    "\n",
    "3) Try performing some math operations in IDLE. Example shown. \n",
    "\n",
    "4) Try importing a package and performing operations with it. Examples shown. \n",
    "\n"
   ]
  },
  {
   "cell_type": "code",
   "execution_count": 1,
   "metadata": {
    "collapsed": false
   },
   "outputs": [
    {
     "name": "stdout",
     "output_type": "stream",
     "text": [
      "hello world\n"
     ]
    }
   ],
   "source": [
    "print (\"hello world\")\n"
   ]
  },
  {
   "cell_type": "code",
   "execution_count": 3,
   "metadata": {
    "collapsed": false
   },
   "outputs": [
    {
     "data": {
      "text/plain": [
       "14"
      ]
     },
     "execution_count": 3,
     "metadata": {},
     "output_type": "execute_result"
    }
   ],
   "source": [
    "5+5+4\n"
   ]
  },
  {
   "cell_type": "code",
   "execution_count": 13,
   "metadata": {
    "collapsed": false
   },
   "outputs": [
    {
     "data": {
      "text/plain": [
       "5.0"
      ]
     },
     "execution_count": 13,
     "metadata": {},
     "output_type": "execute_result"
    }
   ],
   "source": [
    "import math \n",
    "math.sqrt(25)"
   ]
  },
  {
   "cell_type": "code",
   "execution_count": 14,
   "metadata": {
    "collapsed": false
   },
   "outputs": [
    {
     "data": {
      "text/plain": [
       "9.0"
      ]
     },
     "execution_count": 14,
     "metadata": {},
     "output_type": "execute_result"
    }
   ],
   "source": [
    "math.pow (3,2)"
   ]
  },
  {
   "cell_type": "code",
   "execution_count": 17,
   "metadata": {
    "collapsed": false
   },
   "outputs": [
    {
     "data": {
      "text/plain": [
       "0.0"
      ]
     },
     "execution_count": 17,
     "metadata": {},
     "output_type": "execute_result"
    }
   ],
   "source": [
    "math. sin(0)"
   ]
  },
  {
   "cell_type": "markdown",
   "metadata": {},
   "source": [
    "The same things should appear in the IDLE environment below each line of code you type and then enter as appear in the cells above. "
   ]
  },
  {
   "cell_type": "markdown",
   "metadata": {},
   "source": [
    "### Installing Jupyter \n",
    "\n",
    "Once you downloaded Anaconda, you can either use the Anaconda Navigator and launch Jupyter Notebook or launch Jupyter notebook from the command line by typing \n",
    "\n",
    "jupyter notebook \n",
    "\n",
    "From there you can choose a directory in which to make a new folder to hold your problem sets. Problem set \n",
    "\n"
   ]
  }
 ],
 "metadata": {
  "anaconda-cloud": {},
  "kernelspec": {
   "display_name": "Python [Root]",
   "language": "python",
   "name": "Python [Root]"
  },
  "language_info": {
   "codemirror_mode": {
    "name": "ipython",
    "version": 3
   },
   "file_extension": ".py",
   "mimetype": "text/x-python",
   "name": "python",
   "nbconvert_exporter": "python",
   "pygments_lexer": "ipython3",
   "version": "3.5.2"
  }
 },
 "nbformat": 4,
 "nbformat_minor": 0
}
