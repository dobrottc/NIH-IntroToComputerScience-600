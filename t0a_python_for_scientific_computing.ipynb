{
 "cells": [
  {
   "cell_type": "markdown",
   "metadata": {},
   "source": [
    "# Tutuorial 0a: Python for scientific computing"
   ]
  },
  {
   "cell_type": "markdown",
   "metadata": {},
   "source": [
    "*This tutorial was generated from a Jupyter notebook.  You can download the notebook [here](t0a_python_for_scientific_computing.ipynb).*"
   ]
  },
  {
   "cell_type": "markdown",
   "metadata": {},
   "source": [
    "In this tutorial, you will set up a Python computing environment for scientific computing. There are two main ways people do this.\n",
    "1. By downloading and installing package by package with tools like apt-get, pip, etc.\n",
    "2. By downloading and installing a Python distribution that contains binaries of many of the scientific packages needed. The major distributions of these are [Anaconda](https://store.continuum.io/cshop/anaconda/) and [Enthought Canopy](https://www.enthought.com/products/canopy/). Both contain IDEs.\n",
    "\n",
    "In this class, we will use Anaconda, with its associated package manager, `conda`. It has recently become the de facto package manager/distribution for scientific use. "
   ]
  },
  {
   "cell_type": "markdown",
   "metadata": {},
   "source": [
    "## Python 2 vs Python 3\n",
    "We are at an interesting point in Python's history.  Python is currently in version 3.5 (as of September 13, 2015). The problem is that Python 3.x is not backwards compatible with Python 2.x.  Many scientific packages were written in Python 2.x, and have been very slow to update to Python 3.  However, Python 3 is Python's present and future, so  all packages eventually need to work in Python 3.  Today, most important scientific packages work in Python 3.  All of the packages we will use do, so we will use Python 3 in this course.\n",
    "\n",
    "For those of you who are already using Anaconda with Python 2, you can [create a Python 3 environment](http://conda.pydata.org/docs/py2or3.html#create-python-2-or-3-environments)."
   ]
  },
  {
   "cell_type": "markdown",
   "metadata": {},
   "source": [
    "## Downloading and installing Anaconda\n",
    "Downloading and installing Anaconda is simple. \n",
    "1. Go to the [Anaconda homepage](https://store.continuum.io/cshop/anaconda/) and click \"Download Anaconda.\"  \n",
    "2. You will be prompted for your email address, which you should provide.  You may wish to use your Caltech email address because educational users get some of the non-free goodies in Anaconda (like MKL routines that will increase performance).\n",
    "3. Be sure to download Anaconda for Python 3.4 (or 3.5 if you are installing after the 2.5 release).  Do not worry if you install Python 3.4; you easily upgrade to 3.5 using `conda` when it is available.\n",
    "4. Follow the on-screen instructions for installation.\n",
    "\n",
    "That's it!  After you do that, you will have a functioning Python distribution."
   ]
  },
  {
   "cell_type": "markdown",
   "metadata": {},
   "source": [
    "## The `conda` package manager\n",
    "`conda` is a package manager for keeping all of your packages up-to-date.  It has plenty of functionality beyond our basic usage in class, which you can learn more about by reading the [docs](http://conda.pydata.org/docs/).  We will primarily be using `conda` to install and update packages.\n",
    "\n",
    "`conda` works from the command line.  To get a command line prompt, do the following.\n",
    "* **Mac**: Fire up the Terminal application.  It is typically in the `/Applications/Utilities` folder.  Otherwise, hold down Command-space bar and type \"terminal\" in the search box, and you can select the Terminal Application.\n",
    "* **Windows**: Fire up PowerShell.  To do this, select \"Search programs and files\" from the Start menu and type \"powershell\" and hit enter.  This works on Windows 7 and presumably also on Windows 8 and 10.\n",
    "* **Linux**: If you're using Linux, it's a good bet you already know how to navigate a terminal.\n",
    "\n",
    "Now that you have a command line prompt, you can start using `conda`.  The first thing we'll do is update `conda` itself.  To do this, enter the following on the command line:\n",
    "\n",
    "    conda update conda\n",
    "\n",
    "If `conda` is out of date and needs to be updated, you will be prompted to perform the update.  Just type `y`, and the update will proceeed.\n",
    "\n",
    "Now that `conda` is updated, we'll use it to see what packages are installed.  Type the following on the command line:\n",
    "\n",
    "    conda list\n",
    "\n",
    "This gives a list of all packages and their versions that are installed.  Now, we'll update all packages, so type the following on the command line:\n",
    "\n",
    "    conda update --all\n",
    "\n",
    "You will be prompted to perform all of the updates.  They may even be come downgrades.  This happens when there are package conflicts where one package requires an earlier version of another.  `conda` is very smart and figures all of this out for you, so you can almost always say \"yes\" (or \"`y`\") to `conda` when it prompts you.\n",
    "\n",
    "Finally, we will use `conda` to install a package that is not included in the Anaconda distribution that we would like to use.  We will install [Seaborn](http://stanford.edu/~mwaskom/software/seaborn/), which is a nice package for data visualization.  To do this, type the following on the command line:\n",
    "\n",
    "    conda install seaborn\n",
    "\n",
    "You will again be prompted to approve the installation.  Go for it!  Seaborn is pretty cool."
   ]
  },
  {
   "cell_type": "markdown",
   "metadata": {},
   "source": [
    "## Installing packages with `pip`\n",
    "Some packages are not available through `conda` for various reasons, perhaps because they have not been submitted to the Anaconda developers or are still under nascent development.  You can still install these packages and `conda` will be aware of them using `pip`, short for \"Python install Python.\"  One package we will use is [pybeeswarm](https://github.com/mgymrek/pybeeswarm), used for making beeswarm plots.  To install pybeeswarm, simple enter the following at the command line\n",
    "\n",
    "    pip install pybeeswarm\n",
    "\n",
    "This will install `pybeeswarm`, and you will be able to import it when you want to use it.\n",
    "\n",
    "`conda` is a convenient package manager for many reasons, one being that many packages contain compiled code, and `conda` installs binaries, enabling you to skip the ofter troublesome compilation step.  As you can imagine, some packages not covered by `conda` do need to be compiled on your machine.  In order to do that, you need to have compilers installed on your machine that `pip` can access to do the compilation.  A good way to do this for Macs is to install Developer Tools, which you can get from the Apple App Store for free.  For Windows you can install [the MinGW suite](http://www.mingw.org) or [Visual Studio](http://www.visualstudio.com/).  We will probably not use any packages that require compilation outside of `conda`, so you do not need to worry about this now."
   ]
  },
  {
   "cell_type": "markdown",
   "metadata": {},
   "source": [
    "## IDEs for our class\n",
    "\n",
    "You are welcome to use any text editor/interactive developer environment (IDE) you like.  I like [Spyder](#IDEs-for-our-class), which is included in the Anaconda distribution.  However, we have found that Spyder reliably crashes with certain Pandas objects (which we will definitely use throughout the course).  Therefore, we will use [Light Table](http://lighttable.com) along with an IPython QtConsole that can be launched from the Anaconda Launcher to do our computing in class.  All of your homework will be submitted as [Jupyter notebooks](t0b_intro_to_jupyter_notebooks.html)."
   ]
  },
  {
   "cell_type": "markdown",
   "metadata": {},
   "source": [
    "### Installing Light Table\n",
    "You are welcome to use whatever editor you like in class.  However, note that all of the in-class demos will use Light Table with an IPython QtConsole.  This is the only configuration we guarantee support for in class.  You may be on your own if you use another IDE.  \n",
    "\n",
    "The IPython QtConsole can be launched through Anaconda's Launcher app, but you need to install Light Table.  Light Table is a light weight text editor with pleasant features.  To install it, just download it from the [Light Table website](http://lighttable.com) and follow the instructions.\n",
    "\n",
    "Importantly, after it is installed, you should do some configuration for Python.  When you first launch Light Table, you will get a welcome screen.  Do the following steps to get your tabs set properly for Python.\n",
    "1. Hit control-spacebar.\n",
    "2. Type `behaviors` and select \"Settings: User behaviors\".  This will open a new tab called `user.behaviors`, which you can edit.\n",
    "3. Add the following to the bottom of this file:\n",
    "\n",
    "    `[:editor.python :lt.objs.editor/tab-settings false 4 4]`\n",
    "4. Save it.\n",
    "\n",
    "It will be useful to be able to comment out blocks of code.  You can set your key bindings to do this.  To do this, do the following steps.\n",
    "1. Hit control-spacebar.\n",
    "2. Type `keymap` and select \"Settings: User keymap\".  This will open a tab called `user.keymap`, which you edit.\n",
    "3. Add the following to the bottom of this file:\n",
    "\n",
    "    `[:editor.active \"ctrl-/\" :toggle-comment-selection]`\n",
    "4. Save it.\n",
    "\n",
    "After that, Light Table should be ready for you to use to rock some Python!"
   ]
  },
  {
   "cell_type": "markdown",
   "metadata": {},
   "source": [
    "### A quick use of Spyder to test your Anaconda distribution\n",
    "Right now, you will use Spyder just to check to make sure your Python distribution is working properly.\n",
    "\n",
    "To start up Spyder, you can either launch it from the command line by typing\n",
    "\n",
    "    spyder\n",
    "\n",
    "or you can do the following.\n",
    "* **Mac**: Use Anaconda's launcher.  It is located in whatever directory you installed Anaconda (by default your home directory), in the `anaconda` folder.  Just double click the Launcher application, and you will get a window where you can choose which app to launch.  Click Spyder.\n",
    "* **Windows**: select \"Search programs and files\" from the Start menu and type \"spyder\" and hit enter.  You can alternatively launch it from the Anaconda Launcher app.\n",
    "\n",
    "Now, launch Spyder and configure the IPython settings by doing the following.  \n",
    "1. Go to the Spyder Preferences menu (`python` $\\to$ `Preferences` on a Mac, or `Tools` $\\to$ `Preferences` on Windows).  Select `IPython console` and then the `Graphics` tab.  \n",
    "2. Make sure \"Automatically load PyLab and NumPy modules\" is **unchecked**.  \n",
    "3. Select **Automatic** for the Backend (not Inline).\n",
    "4. Close the Preferences window.\n",
    "\n",
    "We'll now run a quick test to make sure things are working properly.  We will generate a plot of the Gamma distribution (which we will discuss later in class),\n",
    "\n",
    "\\begin{align}\n",
    "f(x\\mid a,\\lambda) = \\frac{(\\lambda x)^a\\,\\mathrm{e}^{-\\lambda x}}{x\\Gamma(a)},\n",
    "\\end{align}\n",
    "\n",
    "on the domain $0\\le x \\le 10$ with $a = 2$ and $\\lambda = 1$.  This simplifies the expression to $f(x\\mid 2, 1) = x \\mathrm{e}^{-x}$.\n",
    "\n",
    "Now, you can go to the new file which should be open in the Spyder editor window.  With the exception of the obvious omission, paste the code below into the editor window.  You can run the code by clicking on the green arrow on the Spyder toolbar.  You may be prompted about run settings.  Under \"Console,\" choose \"Execute in current Python or IPython console.\"  You may also be prompted to save the file, which you should do, and then it will run."
   ]
  },
  {
   "cell_type": "code",
   "execution_count": 1,
   "metadata": {
    "collapsed": false
   },
   "outputs": [
    {
     "data": {
      "image/png": "[encoded data removed]",
      "text/plain": [
       "<matplotlib.figure.Figure at 0x106ec5c50>"
      ]
     },
     "metadata": {},
     "output_type": "display_data"
    }
   ],
   "source": [
    "# Do not enter the next line.  This is only to prepare this tutorial.\n",
    "%matplotlib inline\n",
    "\n",
    "# Do everything following\n",
    "import numpy as np\n",
    "import matplotlib.pyplot as plt\n",
    "import seaborn as sns\n",
    "sns.set()\n",
    "\n",
    "# Generate x values\n",
    "x = np.linspace(0.0, 10.0, 100)\n",
    "y = x * np.exp(-x)\n",
    "\n",
    "# Generate the plot\n",
    "plt.plot(x, y, 'k-')\n",
    "plt.margins(0.02)\n",
    "plt.xlabel(r'$x$', fontsize=18)\n",
    "plt.ylabel(r'$y$', fontsize=18)\n",
    "\n",
    "# These two commands may not be necessary, depending on your configuration.\n",
    "plt.draw()\n",
    "plt.show()"
   ]
  },
  {
   "cell_type": "markdown",
   "metadata": {},
   "source": [
    "You should have a window pop up that shows the plot above.  In Windows, you may have to click an icon on the bottom tool bar to view it. If you get this plot, excellent! You now have a functioning Python environment for scientific computing!"
   ]
  }
 ],
 "metadata": {
  "kernelspec": {
   "display_name": "Python [Root]",
   "language": "python",
   "name": "Python [Root]"
  },
  "language_info": {
   "codemirror_mode": {
    "name": "ipython",
    "version": 3
   },
   "file_extension": ".py",
   "mimetype": "text/x-python",
   "name": "python",
   "nbconvert_exporter": "python",
   "pygments_lexer": "ipython3",
   "version": "3.5.2"
  }
 },
 "nbformat": 4,
 "nbformat_minor": 0
}
