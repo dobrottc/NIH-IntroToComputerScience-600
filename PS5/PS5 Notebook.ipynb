{
 "cells": [
  {
   "cell_type": "markdown",
   "metadata": {},
   "source": [
    "# PS5 notebook: example code.\n",
    "\n",
    "**Run these cells on your code and submit this notebook.**"
   ]
  },
  {
   "cell_type": "code",
   "execution_count": 11,
   "metadata": {
    "collapsed": true
   },
   "outputs": [],
   "source": [
    "# set up notebook: run this first\n",
    "%autoreload 2\n",
    "%matplotlib inline"
   ]
  },
  {
   "cell_type": "markdown",
   "metadata": {},
   "source": [
    "## Example: get comfortable with splitting up strings into lists\n",
    "Do the below exercise before problem 2.\n"
   ]
  },
  {
   "cell_type": "code",
   "execution_count": 44,
   "metadata": {
    "collapsed": false
   },
   "outputs": [
    {
     "name": "stdout",
     "output_type": "stream",
     "text": [
      "'!\"#$%&\\'()*+,-./:;<=>?@[\\\\]^_`{|}~'\n",
      "' \\t\\n\\r\\x0b\\x0c'\n"
     ]
    }
   ],
   "source": [
    "# first, show off string module attributes\n",
    "import string\n",
    "import pprint  # pretty-printing module so we can see the whitespace\n",
    "pprint.pprint(string.punctuation)\n",
    "pprint.pprint(string.whitespace)\n",
    "\n",
    "testString = \"ab cd'ef-gh\"\n",
    "\n",
    "# intro exercise: how do you break up testString into a list with 4 elements?\n",
    "# There are a few ways.  You can use regular expressions -- the python 're' module.  This\n",
    "#   is fast and regexes may be very useful to you later when processing strings.  However,\n",
    "#   regexes are complicated to learn.\n",
    "# You can use a for loop and testString's split() and replace() methods\n",
    "# Or you can use the string.translate() function, which is fast but might be a bit hard to figure\n",
    "#   out, and isn't very generally useful, so you might never use it again.\n",
    "\n",
    "# Either way, you should do this before you do problems 2-5.\n"
   ]
  },
  {
   "cell_type": "markdown",
   "metadata": {},
   "source": [
    "## Test harness (unit tests) for problems 1-5"
   ]
  },
  {
   "cell_type": "code",
   "execution_count": 93,
   "metadata": {
    "collapsed": true
   },
   "outputs": [],
   "source": [
    "# test your feedparser install\n",
    "import feedparser   # if this gives an error, install it"
   ]
  },
  {
   "cell_type": "code",
   "execution_count": 96,
   "metadata": {
    "collapsed": false
   },
   "outputs": [
    {
     "name": "stderr",
     "output_type": "stream",
     "text": [
      "testNewsStoryConstructor (__main__.ProblemSet5NewsStory) ... ok\n",
      "testNewsStoryGetGuid (__main__.ProblemSet5NewsStory) ... ok\n",
      "testNewsStoryGetLink (__main__.ProblemSet5NewsStory) ... ok\n",
      "testNewsStoryGetSubject (__main__.ProblemSet5NewsStory) ... ok\n",
      "testNewsStoryGetSummary (__main__.ProblemSet5NewsStory) ... ok\n",
      "testNewsStoryGetTitle (__main__.ProblemSet5NewsStory) ... ok\n",
      "testSubjectTrigger (__main__.ProblemSet5) ... ok\n",
      "testSummaryTrigger (__main__.ProblemSet5) ... ok\n",
      "testTitleTrigger (__main__.ProblemSet5) ... ok\n",
      "\n",
      "----------------------------------------------------------------------\n",
      "Ran 9 tests in 0.007s\n",
      "\n",
      "OK\n"
     ]
    }
   ],
   "source": [
    "# run the test suite\n",
    "import ps5\n",
    "\n",
    "%run ps5_test"
   ]
  },
  {
   "cell_type": "markdown",
   "metadata": {},
   "source": [
    "## Test code for the last problem - running triggers on feeds\n",
    "\n"
   ]
  },
  {
   "cell_type": "code",
   "execution_count": 88,
   "metadata": {
    "collapsed": false
   },
   "outputs": [],
   "source": [
    "# define the list of triggers to filter on (they are applied using OR)\n",
    "triggerlist = [ps5.SummaryTrigger('for'), ps5.TitleTrigger('cat'), ps5.TitleTrigger('said')]"
   ]
  },
  {
   "cell_type": "code",
   "execution_count": 90,
   "metadata": {
    "collapsed": false
   },
   "outputs": [
    {
     "data": {
      "text/plain": [
       "['Naughty Cat Gets Caught in the Act and Tries to Play It Cool',\n",
       " \"Watch This Cat Desperately Try to Claw Donald Trump's Face\",\n",
       " 'Watch a One-Eyed Street Cat Transform Into a Healthy and Happy Feline',\n",
       " \"That's a Weird Name for a Cat...\",\n",
       " \"Here's Some of Our Favorite Entries From the 2016 Comedy Wildlife Photo Awards\",\n",
       " 'Cat Plays \"Totem Tennis\" or Tetherball All by Himself',\n",
       " \"If We Had to Describe the 2016 Presidential Election in One Photo, We'd Choose This One\",\n",
       " \"This Cat's Cosplay Game Is So Nerdy and So Good\",\n",
       " \"Pumpkin the Cat Has the Most Stunning Orange Eyes We've Ever Seen\"]"
      ]
     },
     "execution_count": 90,
     "metadata": {},
     "output_type": "execute_result"
    }
   ],
   "source": [
    "import ps5\n",
    "stories = ps5.process('http://feeds.feedblitz.com/icanhascheezburger&x=1')\n",
    "filter_stories(stories, triggerlist)"
   ]
  },
  {
   "cell_type": "code",
   "execution_count": 89,
   "metadata": {
    "collapsed": false
   },
   "outputs": [
    {
     "name": "stdout",
     "output_type": "stream",
     "text": [
      "First story title: Feeling Burned by Media, Trump Turns Up Heat - NPR\n"
     ]
    },
    {
     "data": {
      "text/plain": [
       "['Trump fights for survival amid allegations of sexual misconduct - CNN',\n",
       " 'Another prize for Bob Dylan — but this one is sweetest for fans and fellow songwriters - Washington Post']"
      ]
     },
     "execution_count": 89,
     "metadata": {},
     "output_type": "execute_result"
    }
   ],
   "source": [
    "import ps5\n",
    "stories = ps5.process('https://news.google.com/?output=rss')\n",
    "print('First story title: ' + stories[0].title)\n",
    "filter_stories(stories, triggerlist)"
   ]
  },
  {
   "cell_type": "code",
   "execution_count": 91,
   "metadata": {
    "collapsed": false
   },
   "outputs": [],
   "source": [
    "\n",
    "\n",
    "            \n",
    "    "
   ]
  }
 ],
 "metadata": {
  "anaconda-cloud": {},
  "kernelspec": {
   "display_name": "Python [brian_mkl30]",
   "language": "python",
   "name": "Python [brian_mkl30]"
  },
  "language_info": {
   "codemirror_mode": {
    "name": "ipython",
    "version": 3
   },
   "file_extension": ".py",
   "mimetype": "text/x-python",
   "name": "python",
   "nbconvert_exporter": "python",
   "pygments_lexer": "ipython3",
   "version": "3.5.2"
  }
 },
 "nbformat": 4,
 "nbformat_minor": 0
}
