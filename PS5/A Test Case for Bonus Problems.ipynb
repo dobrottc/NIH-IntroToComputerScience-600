{
 "cells": [
  {
   "cell_type": "markdown",
   "metadata": {},
   "source": [
    "### A Test Case for the Bonus Problems (6-8) \n",
    "\n",
    "*You should be able to run your code with this test case and various RSS news items should pop up, filtered by some hard-coded triggers defined for you in some code near the bottom. The code runs an infinite loop, checking the RSS feed for new stories every 60 seconds.*\n"
   ]
  },
  {
   "cell_type": "code",
   "execution_count": 5,
   "metadata": {
    "collapsed": false
   },
   "outputs": [
    {
     "ename": "SyntaxError",
     "evalue": "invalid syntax (feedparser.py, line 439)",
     "output_type": "error",
     "traceback": [
      "\u001b[0;36m  File \u001b[0;32m\"/Users/ryanln/Repositories/NIH-IntroToComputerScience-600/PS5/feedparser.py\"\u001b[0;36m, line \u001b[0;32m439\u001b[0m\n\u001b[0;31m    if tag.find(':') <> -1:\u001b[0m\n\u001b[0m                      ^\u001b[0m\n\u001b[0;31mSyntaxError\u001b[0m\u001b[0;31m:\u001b[0m invalid syntax\n"
     ]
    }
   ],
   "source": [
    "%run ps5.py\n"
   ]
  },
  {
   "cell_type": "code",
   "execution_count": null,
   "metadata": {
    "collapsed": true
   },
   "outputs": [],
   "source": [
    "#Problem 10/Test case\n",
    "\n",
    "def filter_stories(stories, triggerlist):\n",
    "    \n",
    "    story_list_out=[]\n",
    "    for story in stories: \n",
    "        for trigger in triggerlist: \n",
    "            \n",
    "    "
   ]
  },
  {
   "cell_type": "code",
   "execution_count": 4,
   "metadata": {
    "collapsed": true
   },
   "outputs": [],
   "source": [
    "# set up notebook: run this first\n",
    "%autoreload 2\n",
    "%matplotlib inline"
   ]
  },
  {
   "cell_type": "code",
   "execution_count": 3,
   "metadata": {
    "collapsed": false
   },
   "outputs": [],
   "source": [
    "# problem 1 test case\n",
    "import feedparser\n",
    "import ps5_test\n",
    "\n",
    "ps5 = ps5_test.ProblemSet5"
   ]
  },
  {
   "cell_type": "code",
   "execution_count": 5,
   "metadata": {
    "collapsed": false
   },
   "outputs": [
    {
     "name": "stderr",
     "output_type": "stream",
     "text": [
      "testNewsStoryConstructor (__main__.ProblemSet5NewsStory) ... ERROR\n",
      "testNewsStoryGetGuid (__main__.ProblemSet5NewsStory) ... ERROR\n",
      "testNewsStoryGetLink (__main__.ProblemSet5NewsStory) ... ERROR\n",
      "testNewsStoryGetSubject (__main__.ProblemSet5NewsStory) ... ERROR\n",
      "testNewsStoryGetSummary (__main__.ProblemSet5NewsStory) ... ERROR\n",
      "testNewsStoryGetTitle (__main__.ProblemSet5NewsStory) ... ERROR\n",
      "test1TitleTrigger (__main__.ProblemSet5) ... ERROR\n",
      "test2SubjectTrigger (__main__.ProblemSet5) ... ERROR\n",
      "test3SummaryTrigger (__main__.ProblemSet5) ... ERROR\n",
      "test4NotTrigger (__main__.ProblemSet5) ... ERROR\n",
      "test5AndTrigger (__main__.ProblemSet5) ... ERROR\n",
      "test6OrTrigger (__main__.ProblemSet5) ... ERROR\n",
      "test7PhraseTrigger (__main__.ProblemSet5) ... ERROR\n",
      "test8FilterStories (__main__.ProblemSet5) ... ERROR\n",
      "test8FilterStories2 (__main__.ProblemSet5) ... ERROR\n",
      "\n",
      "======================================================================\n",
      "ERROR: testNewsStoryConstructor (__main__.ProblemSet5NewsStory)\n",
      "----------------------------------------------------------------------\n",
      "Traceback (most recent call last):\n",
      "  File \"/Users/histed/Repositories/NIH-IntroToComputerScience-600/PS5/ps5_test.py\", line 21, in testNewsStoryConstructor\n",
      "    story = NewsStory('', '', '', '', '')\n",
      "NameError: name 'NewsStory' is not defined\n",
      "\n",
      "======================================================================\n",
      "ERROR: testNewsStoryGetGuid (__main__.ProblemSet5NewsStory)\n",
      "----------------------------------------------------------------------\n",
      "Traceback (most recent call last):\n",
      "  File \"/Users/histed/Repositories/NIH-IntroToComputerScience-600/PS5/ps5_test.py\", line 25, in testNewsStoryGetGuid\n",
      "    story = NewsStory('test guid', 'test title', 'test subject',\n",
      "NameError: name 'NewsStory' is not defined\n",
      "\n",
      "======================================================================\n",
      "ERROR: testNewsStoryGetLink (__main__.ProblemSet5NewsStory)\n",
      "----------------------------------------------------------------------\n",
      "Traceback (most recent call last):\n",
      "  File \"/Users/histed/Repositories/NIH-IntroToComputerScience-600/PS5/ps5_test.py\", line 49, in testNewsStoryGetLink\n",
      "    story = NewsStory('test guid', 'test title', 'test subject',\n",
      "NameError: name 'NewsStory' is not defined\n",
      "\n",
      "======================================================================\n",
      "ERROR: testNewsStoryGetSubject (__main__.ProblemSet5NewsStory)\n",
      "----------------------------------------------------------------------\n",
      "Traceback (most recent call last):\n",
      "  File \"/Users/histed/Repositories/NIH-IntroToComputerScience-600/PS5/ps5_test.py\", line 37, in testNewsStoryGetSubject\n",
      "    story = NewsStory('test guid', 'test title', 'test subject',\n",
      "NameError: name 'NewsStory' is not defined\n",
      "\n",
      "======================================================================\n",
      "ERROR: testNewsStoryGetSummary (__main__.ProblemSet5NewsStory)\n",
      "----------------------------------------------------------------------\n",
      "Traceback (most recent call last):\n",
      "  File \"/Users/histed/Repositories/NIH-IntroToComputerScience-600/PS5/ps5_test.py\", line 43, in testNewsStoryGetSummary\n",
      "    story = NewsStory('test guid', 'test title', 'test subject',\n",
      "NameError: name 'NewsStory' is not defined\n",
      "\n",
      "======================================================================\n",
      "ERROR: testNewsStoryGetTitle (__main__.ProblemSet5NewsStory)\n",
      "----------------------------------------------------------------------\n",
      "Traceback (most recent call last):\n",
      "  File \"/Users/histed/Repositories/NIH-IntroToComputerScience-600/PS5/ps5_test.py\", line 31, in testNewsStoryGetTitle\n",
      "    story = NewsStory('test guid', 'test title', 'test subject',\n",
      "NameError: name 'NewsStory' is not defined\n",
      "\n",
      "======================================================================\n",
      "ERROR: test1TitleTrigger (__main__.ProblemSet5)\n",
      "----------------------------------------------------------------------\n",
      "Traceback (most recent call last):\n",
      "  File \"/Users/histed/Repositories/NIH-IntroToComputerScience-600/PS5/ps5_test.py\", line 69, in test1TitleTrigger\n",
      "    koala     = NewsStory('', 'Koala bears are soft and cuddly', '', '', '')\n",
      "NameError: name 'NewsStory' is not defined\n",
      "\n",
      "======================================================================\n",
      "ERROR: test2SubjectTrigger (__main__.ProblemSet5)\n",
      "----------------------------------------------------------------------\n",
      "Traceback (most recent call last):\n",
      "  File \"/Users/histed/Repositories/NIH-IntroToComputerScience-600/PS5/ps5_test.py\", line 94, in test2SubjectTrigger\n",
      "    koala     = NewsStory('', '', 'Koala bears are soft and cuddly', '', '')\n",
      "NameError: name 'NewsStory' is not defined\n",
      "\n",
      "======================================================================\n",
      "ERROR: test3SummaryTrigger (__main__.ProblemSet5)\n",
      "----------------------------------------------------------------------\n",
      "Traceback (most recent call last):\n",
      "  File \"/Users/histed/Repositories/NIH-IntroToComputerScience-600/PS5/ps5_test.py\", line 119, in test3SummaryTrigger\n",
      "    koala     = NewsStory('', '', '', 'Koala bears are soft and cuddly', '')\n",
      "NameError: name 'NewsStory' is not defined\n",
      "\n",
      "======================================================================\n",
      "ERROR: test4NotTrigger (__main__.ProblemSet5)\n",
      "----------------------------------------------------------------------\n",
      "Traceback (most recent call last):\n",
      "  File \"/Users/histed/Repositories/NIH-IntroToComputerScience-600/PS5/ps5_test.py\", line 144, in test4NotTrigger\n",
      "    n = NotTrigger(self.tt)\n",
      "NameError: name 'NotTrigger' is not defined\n",
      "\n",
      "======================================================================\n",
      "ERROR: test5AndTrigger (__main__.ProblemSet5)\n",
      "----------------------------------------------------------------------\n",
      "Traceback (most recent call last):\n",
      "  File \"/Users/histed/Repositories/NIH-IntroToComputerScience-600/PS5/ps5_test.py\", line 155, in test5AndTrigger\n",
      "    yy = AndTrigger(self.tt, self.tt2)\n",
      "NameError: name 'AndTrigger' is not defined\n",
      "\n",
      "======================================================================\n",
      "ERROR: test6OrTrigger (__main__.ProblemSet5)\n",
      "----------------------------------------------------------------------\n",
      "Traceback (most recent call last):\n",
      "  File \"/Users/histed/Repositories/NIH-IntroToComputerScience-600/PS5/ps5_test.py\", line 169, in test6OrTrigger\n",
      "    yy = OrTrigger(self.tt, self.tt2)\n",
      "NameError: name 'OrTrigger' is not defined\n",
      "\n",
      "======================================================================\n",
      "ERROR: test7PhraseTrigger (__main__.ProblemSet5)\n",
      "----------------------------------------------------------------------\n",
      "Traceback (most recent call last):\n",
      "  File \"/Users/histed/Repositories/NIH-IntroToComputerScience-600/PS5/ps5_test.py\", line 183, in test7PhraseTrigger\n",
      "    pt = PhraseTrigger(\"New York City\")\n",
      "NameError: name 'PhraseTrigger' is not defined\n",
      "\n",
      "======================================================================\n",
      "ERROR: test8FilterStories (__main__.ProblemSet5)\n",
      "----------------------------------------------------------------------\n",
      "Traceback (most recent call last):\n",
      "  File \"/Users/histed/Repositories/NIH-IntroToComputerScience-600/PS5/ps5_test.py\", line 202, in test8FilterStories\n",
      "    pt = PhraseTrigger(\"New York City\")\n",
      "NameError: name 'PhraseTrigger' is not defined\n",
      "\n",
      "======================================================================\n",
      "ERROR: test8FilterStories2 (__main__.ProblemSet5)\n",
      "----------------------------------------------------------------------\n",
      "Traceback (most recent call last):\n",
      "  File \"/Users/histed/Repositories/NIH-IntroToComputerScience-600/PS5/ps5_test.py\", line 221, in test8FilterStories2\n",
      "    pt = PhraseTrigger(\"New York City\")\n",
      "NameError: name 'PhraseTrigger' is not defined\n",
      "\n",
      "----------------------------------------------------------------------\n",
      "Ran 15 tests in 0.013s\n",
      "\n",
      "FAILED (errors=15)\n"
     ]
    }
   ],
   "source": [
    "# run the test suite\n",
    "\n",
    "%run ps5_test"
   ]
  },
  {
   "cell_type": "code",
   "execution_count": null,
   "metadata": {
    "collapsed": true
   },
   "outputs": [],
   "source": []
  }
 ],
 "metadata": {
  "anaconda-cloud": {},
  "kernelspec": {
   "display_name": "Python [brian_mkl30]",
   "language": "python",
   "name": "Python [brian_mkl30]"
  },
  "language_info": {
   "codemirror_mode": {
    "name": "ipython",
    "version": 3
   },
   "file_extension": ".py",
   "mimetype": "text/x-python",
   "name": "python",
   "nbconvert_exporter": "python",
   "pygments_lexer": "ipython3",
   "version": "3.5.2"
  }
 },
 "nbformat": 4,
 "nbformat_minor": 0
}
