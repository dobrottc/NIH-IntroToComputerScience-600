{
 "cells": [
  {
   "cell_type": "markdown",
   "metadata": {},
   "source": [
    "# Details you will need to write Python classes\n",
    "\n",
    "You should understand, using the code examples below:\n",
    "- When you call an object (to create it), what method gets called?\n",
    "- Why is `count_corrects()` defined with 1 parameter, but you call it with zero parameters?\n",
    "- Why is `__init__()` defined with 2 parameters, but you call it with one?  (also: when does `__init__()` get called?)\n",
    "- How does the `self` name resolve inside a method?\n",
    "- How does the `self` name resolve outside the object (in the notebook namespace, for example?)\n"
   ]
  },
  {
   "cell_type": "markdown",
   "metadata": {},
   "source": [
    "### Things to cover in recitation\n",
    "- namespaces, globals(), locals().  dir() for finding attributes/methods, tab completion, help\n",
    "- Walk through class definition.  Docstrings, data, methods, init param->self.param convention\n",
    "- Objects vs classes.  Classes generate objects.\n",
    "  - can have multiple objects, single class - show a list of objects with different data\n",
    "- What happens when you construct an object.  `__init__()` method gets called\n",
    "- Self object, how it gets supplied to each method call\n",
    "- user methods, what they might do"
   ]
  },
  {
   "cell_type": "code",
   "execution_count": 11,
   "metadata": {
    "collapsed": true
   },
   "outputs": [],
   "source": [
    "class behaviorResponses():\n",
    "    \"\"\"Docstring here, indented 4 chars\"\"\"\n",
    "    n_trials = None  # This is an attribute.  By convention it is assigned in __init__\n",
    "                        # but it's good practice to list it here with an empty value\n",
    "    outcome_list = []    # possible values: 'correct', 'miss', etc.\n",
    "    ncorrects = None\n",
    "\n",
    "    def __init__(self, outcome_list):\n",
    "        \"\"\"Docstring for __init__()\n",
    "        \n",
    "        Note! first argument must always be self.  \n",
    "        __init__ is a special name in python, called by the interpreter when an object is created.\n",
    "        \"\"\"\n",
    "        self.n_trials = len(outcome_list)  # these assign to _object attributes_ (using self)\n",
    "        self.outcome_list = outcome_list\n",
    "\n",
    "\n",
    "    def count_corrects(self):\n",
    "        \"\"\"Docstring.  Returns number of 'corrects' in outcome_list, also sets self.ncorrects\n",
    "\n",
    "        This is an example method that you will create to do something useful.\n",
    "        It manipulates the object data by changing the object attributes\"\"\"\n",
    "        self.ncorrects = 0\n",
    "        for el in self.outcome_list:\n",
    "            if el == 'correct':\n",
    "                self.ncorrects = self.ncorrects + 1  # Note: Convince yourself why you need 'self.'\n",
    "                # what would this do?  ncorrects = self.ncorrects + 1\n",
    "        return self.ncorrects\n",
    "\n",
    "    \n"
   ]
  },
  {
   "cell_type": "markdown",
   "metadata": {},
   "source": [
    "### Create an instance of this object"
   ]
  },
  {
   "cell_type": "code",
   "execution_count": 15,
   "metadata": {
    "collapsed": false
   },
   "outputs": [
    {
     "name": "stdout",
     "output_type": "stream",
     "text": [
      "3\n",
      "None\n"
     ]
    }
   ],
   "source": [
    "br = behaviorResponses(['correct', 'miss', 'correct'])\n",
    "\n",
    "# print some attributes of the created object\n",
    "print(br.n_trials)\n",
    "print(br.ncorrects)  # why does this print None?"
   ]
  },
  {
   "cell_type": "code",
   "execution_count": 20,
   "metadata": {
    "collapsed": false
   },
   "outputs": [
    {
     "name": "stdout",
     "output_type": "stream",
     "text": [
      "[<__main__.behaviorResponses object at 0x10a6770f0>, <__main__.behaviorResponses object at 0x10a6771d0>, <__main__.behaviorResponses object at 0x10a677160>, <__main__.behaviorResponses object at 0x10a677198>, <__main__.behaviorResponses object at 0x10a677208>, <__main__.behaviorResponses object at 0x10a6772b0>, <__main__.behaviorResponses object at 0x10a6772e8>, <__main__.behaviorResponses object at 0x10a677320>, <__main__.behaviorResponses object at 0x10a6773c8>, <__main__.behaviorResponses object at 0x10a656c50>]\n"
     ]
    }
   ],
   "source": [
    "# list of objects\n",
    "brL = [None]*10\n",
    "for iC in range(10):\n",
    "    brL[iC] = behaviorResponses(['correct'])\n",
    "print(brL)"
   ]
  },
  {
   "cell_type": "code",
   "execution_count": 24,
   "metadata": {
    "collapsed": false
   },
   "outputs": [
    {
     "name": "stdout",
     "output_type": "stream",
     "text": [
      "<__main__.behaviorResponses object at 0x10a67a160> <__main__.behaviorResponses object at 0x10a67a2e8>\n"
     ]
    }
   ],
   "source": [
    "# 2nd object\n",
    "br2 = behaviorResponses(['miss'])\n",
    "\n",
    "print(br, br2)"
   ]
  },
  {
   "cell_type": "code",
   "execution_count": 14,
   "metadata": {
    "collapsed": false
   },
   "outputs": [
    {
     "data": {
      "text/plain": [
       "2"
      ]
     },
     "execution_count": 14,
     "metadata": {},
     "output_type": "execute_result"
    }
   ],
   "source": [
    "# self and methods\n",
    "br.count_corrects()  # why does this have different number of arguments as defined above?"
   ]
  },
  {
   "cell_type": "code",
   "execution_count": 16,
   "metadata": {
    "collapsed": false
   },
   "outputs": [
    {
     "name": "stdout",
     "output_type": "stream",
     "text": [
      "2\n"
     ]
    }
   ],
   "source": [
    "print(br.ncorrects)   # why is this 2 now, when was None above?"
   ]
  },
  {
   "cell_type": "code",
   "execution_count": null,
   "metadata": {
    "collapsed": true
   },
   "outputs": [],
   "source": []
  },
  {
   "cell_type": "code",
   "execution_count": null,
   "metadata": {
    "collapsed": true
   },
   "outputs": [],
   "source": []
  },
  {
   "cell_type": "code",
   "execution_count": null,
   "metadata": {
    "collapsed": true
   },
   "outputs": [],
   "source": []
  },
  {
   "cell_type": "code",
   "execution_count": null,
   "metadata": {
    "collapsed": true
   },
   "outputs": [],
   "source": []
  },
  {
   "cell_type": "code",
   "execution_count": null,
   "metadata": {
    "collapsed": true
   },
   "outputs": [],
   "source": []
  },
  {
   "cell_type": "code",
   "execution_count": null,
   "metadata": {
    "collapsed": true
   },
   "outputs": [],
   "source": []
  },
  {
   "cell_type": "code",
   "execution_count": null,
   "metadata": {
    "collapsed": true
   },
   "outputs": [],
   "source": []
  },
  {
   "cell_type": "code",
   "execution_count": null,
   "metadata": {
    "collapsed": true
   },
   "outputs": [],
   "source": []
  },
  {
   "cell_type": "markdown",
   "metadata": {
    "collapsed": true
   },
   "source": [
    "## Object methods, dir(), completion"
   ]
  },
  {
   "cell_type": "code",
   "execution_count": null,
   "metadata": {
    "collapsed": true
   },
   "outputs": [],
   "source": [
    "%qtconsole"
   ]
  },
  {
   "cell_type": "code",
   "execution_count": 1,
   "metadata": {
    "collapsed": false
   },
   "outputs": [
    {
     "name": "stdout",
     "output_type": "stream",
     "text": [
      "['__add__', '__class__', '__contains__', '__delattr__', '__dir__', '__doc__', '__eq__', '__format__', '__ge__', '__getattribute__', '__getitem__', '__getnewargs__', '__gt__', '__hash__', '__init__', '__iter__', '__le__', '__len__', '__lt__', '__mod__', '__mul__', '__ne__', '__new__', '__reduce__', '__reduce_ex__', '__repr__', '__rmod__', '__rmul__', '__setattr__', '__sizeof__', '__str__', '__subclasshook__', 'capitalize', 'casefold', 'center', 'count', 'encode', 'endswith', 'expandtabs', 'find', 'format', 'format_map', 'index', 'isalnum', 'isalpha', 'isdecimal', 'isdigit', 'isidentifier', 'islower', 'isnumeric', 'isprintable', 'isspace', 'istitle', 'isupper', 'join', 'ljust', 'lower', 'lstrip', 'maketrans', 'partition', 'replace', 'rfind', 'rindex', 'rjust', 'rpartition', 'rsplit', 'rstrip', 'split', 'splitlines', 'startswith', 'strip', 'swapcase', 'title', 'translate', 'upper', 'zfill']\n"
     ]
    }
   ],
   "source": [
    "aStr = 'f'\n",
    "print(dir(aStr))\n",
    "\n",
    "\n",
    "aStr.replace()"
   ]
  },
  {
   "cell_type": "code",
   "execution_count": 3,
   "metadata": {
    "collapsed": false
   },
   "outputs": [
    {
     "data": {
      "text/plain": [
       "['__len__',\n",
       " '__getnewargs__',\n",
       " '__init__',\n",
       " '__getitem__',\n",
       " '__str__',\n",
       " '__add__',\n",
       " 'expandtabs',\n",
       " '__rmod__',\n",
       " '__reduce_ex__',\n",
       " 'rstrip',\n",
       " 'split',\n",
       " 'index',\n",
       " '__new__',\n",
       " '__le__',\n",
       " 'format',\n",
       " 'join',\n",
       " '__mul__',\n",
       " 'count',\n",
       " 'translate',\n",
       " '__iter__',\n",
       " '__sizeof__',\n",
       " 'isalpha',\n",
       " '__dir__',\n",
       " '__class__',\n",
       " 'lower',\n",
       " 'partition',\n",
       " 'upper',\n",
       " 'isnumeric',\n",
       " 'istitle',\n",
       " '__getattribute__',\n",
       " 'endswith',\n",
       " 'capitalize',\n",
       " 'startswith',\n",
       " 'lstrip',\n",
       " 'isdigit',\n",
       " 'title',\n",
       " 'rfind',\n",
       " 'casefold',\n",
       " 'rpartition',\n",
       " '__lt__',\n",
       " '__subclasshook__',\n",
       " '__hash__',\n",
       " 'rindex',\n",
       " 'maketrans',\n",
       " '__gt__',\n",
       " '__doc__',\n",
       " 'swapcase',\n",
       " 'islower',\n",
       " 'zfill',\n",
       " '__repr__',\n",
       " '__ge__',\n",
       " 'isspace',\n",
       " 'center',\n",
       " 'isupper',\n",
       " 'splitlines',\n",
       " 'find',\n",
       " 'strip',\n",
       " '__ne__',\n",
       " 'isprintable',\n",
       " 'rjust',\n",
       " '__format__',\n",
       " '__mod__',\n",
       " 'replace',\n",
       " 'isalnum',\n",
       " 'encode',\n",
       " '__contains__',\n",
       " 'format_map',\n",
       " '__eq__',\n",
       " 'isidentifier',\n",
       " '__reduce__',\n",
       " 'ljust',\n",
       " '__setattr__',\n",
       " 'rsplit',\n",
       " '__delattr__',\n",
       " '__rmul__',\n",
       " 'isdecimal']"
      ]
     },
     "execution_count": 3,
     "metadata": {},
     "output_type": "execute_result"
    }
   ],
   "source": [
    "aStr.__dir__()"
   ]
  },
  {
   "cell_type": "code",
   "execution_count": 4,
   "metadata": {
    "collapsed": true
   },
   "outputs": [],
   "source": [
    "%qtconsole"
   ]
  }
 ],
 "metadata": {
  "anaconda-cloud": {},
  "kernelspec": {
   "display_name": "Python 3",
   "language": "python",
   "name": "python3"
  },
  "language_info": {
   "codemirror_mode": {
    "name": "ipython",
    "version": 3
   },
   "file_extension": ".py",
   "mimetype": "text/x-python",
   "name": "python",
   "nbconvert_exporter": "python",
   "pygments_lexer": "ipython3",
   "version": "3.5.1"
  }
 },
 "nbformat": 4,
 "nbformat_minor": 0
}
