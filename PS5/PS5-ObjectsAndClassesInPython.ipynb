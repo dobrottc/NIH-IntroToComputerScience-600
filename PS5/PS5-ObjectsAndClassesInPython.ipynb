{
 "cells": [
  {
   "cell_type": "markdown",
   "metadata": {},
   "source": [
    "# Details you will need to write Python classes\n",
    "\n",
    "You should understand, using the code examples below:\n",
    "- When you call an object (to create it), what method gets called?\n",
    "- Why is `count_corrects()` defined with 1 parameter, but you call it with zero parameters?\n",
    "- Why is `__init__()` defined with 2 parameters, but you call it with one?  (also: when does `__init__()` get called?)\n",
    "- How does the `self` name resolve inside a method?\n",
    "- How does the `self` name resolve outside the object (in the notebook namespace, for example?)\n"
   ]
  },
  {
   "cell_type": "code",
   "execution_count": 11,
   "metadata": {
    "collapsed": true
   },
   "outputs": [],
   "source": [
    "class behaviorResponses():\n",
    "    \"\"\"Docstring here, indented 4 chars\"\"\"\n",
    "    n_trials = None  # This is an attribute.  By convention it is assigned in __init__\n",
    "                        # but it's good practice to list it here with an empty value\n",
    "    outcome_list = []    # possible values: 'correct', 'miss', etc.\n",
    "    ncorrects = None\n",
    "\n",
    "    def __init__(self, outcome_list):\n",
    "        \"\"\"Docstring for __init__()\n",
    "        \n",
    "        Note! first argument must always be self.  \n",
    "        __init__ is a special name in python, called by the interpreter when an object is created.\n",
    "        \"\"\"\n",
    "        self.n_trials = len(outcome_list)  # these assign to _object attributes_ (using self)\n",
    "        self.outcome_list = outcome_list\n",
    "\n",
    "\n",
    "    def count_corrects(self):\n",
    "        \"\"\"Docstring.  Returns number of 'corrects' in outcome_list, also sets self.ncorrects\n",
    "\n",
    "        This is an example method that you will create to do something useful.\n",
    "        It manipulates the object data by changing the object attributes\"\"\"\n",
    "        self.ncorrects = 0\n",
    "        for el in self.outcome_list:\n",
    "            if el == 'correct':\n",
    "                self.ncorrects = self.ncorrects + 1  # Note: Convince yourself why you need 'self.'\n",
    "                # what would this do?  ncorrects = self.ncorrects + 1\n",
    "        return self.ncorrects\n"
   ]
  },
  {
   "cell_type": "markdown",
   "metadata": {},
   "source": [
    "### Create an instance of this object"
   ]
  },
  {
   "cell_type": "code",
   "execution_count": 17,
   "metadata": {
    "collapsed": false
   },
   "outputs": [
    {
     "name": "stdout",
     "output_type": "stream",
     "text": [
      "3\n",
      "None\n"
     ]
    }
   ],
   "source": [
    "br = behaviorResponses(['correct', 'miss', 'correct'])\n",
    "\n",
    "# print some attributes of the created object\n",
    "print(br.n_trials)\n",
    "print(br.ncorrects)  # why does this print None?"
   ]
  },
  {
   "cell_type": "code",
   "execution_count": 14,
   "metadata": {
    "collapsed": false
   },
   "outputs": [
    {
     "data": {
      "text/plain": [
       "2"
      ]
     },
     "execution_count": 14,
     "metadata": {},
     "output_type": "execute_result"
    }
   ],
   "source": [
    "br.count_corrects()  # why does this have different number of arguments as defined above?"
   ]
  },
  {
   "cell_type": "code",
   "execution_count": 16,
   "metadata": {
    "collapsed": false
   },
   "outputs": [
    {
     "name": "stdout",
     "output_type": "stream",
     "text": [
      "2\n"
     ]
    }
   ],
   "source": [
    "print(br.ncorrects)   # why is this 2 now, when was None above?"
   ]
  }
 ],
 "metadata": {
  "kernelspec": {
   "display_name": "Python [brian_mkl30]",
   "language": "python",
   "name": "Python [brian_mkl30]"
  },
  "language_info": {
   "codemirror_mode": {
    "name": "ipython",
    "version": 3
   },
   "file_extension": ".py",
   "mimetype": "text/x-python",
   "name": "python",
   "nbconvert_exporter": "python",
   "pygments_lexer": "ipython3",
   "version": "3.5.2"
  }
 },
 "nbformat": 4,
 "nbformat_minor": 0
}
