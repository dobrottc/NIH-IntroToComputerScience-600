{
 "cells": [
  {
   "cell_type": "markdown",
   "metadata": {},
   "source": [
    "# Recitation 7: randomness\n",
    "\n",
    "- Monte carlo sim\n",
    "- regression\n",
    "\n",
    "- **quiz stuff**\n",
    "  - normal, uniform, exponential\n",
    "  - histogram (normed)\n",
    "  - confidence intervals\n",
    "  - distributions\n",
    "  - coeff of variation, mean, std., var\n",
    "  - hashing\n",
    "  - parameters to functions\n",
    "  - double-under-bar methods\n",
    "  - lambda functions\n",
    "  - polymorphism vs. inheritance\n",
    "  - exceptions: try/except\n",
    "  - confidence intervals\n",
    "  - monte carlo vs. brute force"
   ]
  },
  {
   "cell_type": "code",
   "execution_count": 7,
   "metadata": {
    "collapsed": false
   },
   "outputs": [],
   "source": [
    "import numpy as np\n",
    "%matplotlib inline"
   ]
  },
  {
   "cell_type": "code",
   "execution_count": 8,
   "metadata": {
    "collapsed": true
   },
   "outputs": [],
   "source": [
    "%qtconsole"
   ]
  },
  {
   "cell_type": "code",
   "execution_count": 209,
   "metadata": {
    "collapsed": false
   },
   "outputs": [
    {
     "data": {
      "text/plain": [
       "True"
      ]
     },
     "execution_count": 209,
     "metadata": {},
     "output_type": "execute_result"
    }
   ],
   "source": [
    "# monte carlo\n",
    "\n",
    "# discuss: dtype of doorsA\n",
    "doorsA = np.array(['goat', 'goat', 'prize'], 'U10')  # or S10\n",
    "def isGoat(montyOpens=True, switch=True):\n",
    "    randorder = np.random.permutation(3)\n",
    "    tDoorsA = doorsA[randorder]\n",
    "    choiceN=0\n",
    "    if montyOpens:\n",
    "        for iR in [1,2]:\n",
    "            if tDoorsA[iR] == 'goat':\n",
    "                tDoorsA[iR] = 'opened'\n",
    "                break\n",
    "    if switch:\n",
    "        notOpened = np.where(tDoorsA!='opened') ##[0]\n",
    "        switchTarg = np.setdiff1d(notOpened, choiceN)[0]\n",
    "        #print(switchTarg)\n",
    "        choiceN = switchTarg\n",
    "    #print(tDoorsA[choiceN])\n",
    "    if tDoorsA[choiceN] == 'goat':\n",
    "        return(True)\n",
    "    else:\n",
    "        return(False)\n",
    "\n",
    "isGoat()\n",
    "\n"
   ]
  },
  {
   "cell_type": "code",
   "execution_count": 390,
   "metadata": {
    "collapsed": false
   },
   "outputs": [
    {
     "name": "stdout",
     "output_type": "stream",
     "text": [
      "1 loop, best of 3: 465 ms per loop\n"
     ]
    }
   ],
   "source": [
    "#   %%timeit\n",
    "# one simulation\n",
    "nReps = 10000\n",
    "goatV = np.nan*np.zeros((nReps,))\n",
    "\n",
    "for iR in range(nReps):\n",
    "    goatV[iR] = isGoat(montyOpens=True, switch=True)"
   ]
  },
  {
   "cell_type": "code",
   "execution_count": 215,
   "metadata": {
    "collapsed": false
   },
   "outputs": [
    {
     "data": {
      "text/plain": [
       "(array([ 685.,    0.,    0.,    0.,    0.,    0.,    0.,    0.,    0.,  315.]),\n",
       " array([ 0. ,  0.1,  0.2,  0.3,  0.4,  0.5,  0.6,  0.7,  0.8,  0.9,  1. ]),\n",
       " <a list of 10 Patch objects>)"
      ]
     },
     "execution_count": 215,
     "metadata": {},
     "output_type": "execute_result"
    },
    {
     "data": {
      "image/png": "[encoded data removed]",
      "text/plain": [
       "<matplotlib.figure.Figure at 0x10e4cbb00>"
      ]
     },
     "metadata": {},
     "output_type": "display_data"
    }
   ],
   "source": [
    "plt.hist(goatV)"
   ]
  },
  {
   "cell_type": "code",
   "execution_count": 216,
   "metadata": {
    "collapsed": false
   },
   "outputs": [
    {
     "name": "stdout",
     "output_type": "stream",
     "text": [
      "[ 0.315  0.667  0.687  0.66 ]\n"
     ]
    }
   ],
   "source": [
    "# run for all combinations of open and switch\n",
    "nReps = 10000\n",
    "goatV = np.nan*np.zeros((nReps,))\n",
    "\n",
    "openL = [True,True,False,False]\n",
    "switchL = [True,False,True,False]\n",
    "pctV = np.nan*np.zeros((4,))\n",
    "for iP in range(len(pctV)):\n",
    "    for iR in range(nReps):\n",
    "        goatV[iR] = isGoat(montyOpens=openL[iP], switch=switchL[iP])\n",
    "    pctV[iP] = np.sum(goatV)/len(goatV)\n",
    "\n",
    "print(pctV)\n",
    "#plt.hist(goatV, cumulative=True)\n"
   ]
  },
  {
   "cell_type": "code",
   "execution_count": 207,
   "metadata": {
    "collapsed": false
   },
   "outputs": [
    {
     "name": "stdout",
     "output_type": "stream",
     "text": [
      "> <ipython-input-190-5e098a80c5f5>(18)isGoat()\n",
      "-> if tDoorsA[choiceN] == 'goat':\n",
      "(Pdb) choiceN\n",
      "array([1, 2])\n",
      "(Pdb) q\n"
     ]
    }
   ],
   "source": [
    "# show pdb in console: use to debug the choiceN vector in the cell above\n",
    "import pdb; pdb.pm()"
   ]
  },
  {
   "cell_type": "code",
   "execution_count": 380,
   "metadata": {
    "collapsed": false
   },
   "outputs": [
    {
     "name": "stdout",
     "output_type": "stream",
     "text": [
      "[[ 0.  1.  1.]\n",
      " [ 0.  1.  1.]\n",
      " [ 0.  1.  1.]\n",
      " [ 0.  1.  1.]\n",
      " [ 0.  1.  1.]\n",
      " [ 0.  1.  1.]\n",
      " [ 0.  1.  1.]\n",
      " [ 0.  1.  1.]\n",
      " [ 0.  1.  1.]\n",
      " [ 0.  1.  1.]]\n",
      "[[2 0 1]\n",
      " [1 2 0]\n",
      " [1 0 2]\n",
      " [1 2 0]\n",
      " [0 2 1]\n",
      " [0 1 2]\n",
      " [2 0 1]\n",
      " [1 0 2]\n",
      " [1 2 0]\n",
      " [1 0 2]]\n",
      "[[ 1.  0.  1.]\n",
      " [ 1.  1.  0.]\n",
      " [ 1.  0.  1.]\n",
      " [ 1.  1.  0.]\n",
      " [ 0.  1.  1.]\n",
      " [ 0.  1.  1.]\n",
      " [ 1.  0.  1.]\n",
      " [ 1.  0.  1.]\n",
      " [ 1.  1.  0.]\n",
      " [ 1.  0.  1.]]\n"
     ]
    }
   ],
   "source": [
    "# monte carlo with vectors\n",
    "goat = 0\n",
    "opened = np.nan\n",
    "prize = 1\n",
    "a_ = np.array\n",
    "\n",
    "nReps = 10\n",
    "doorMat = np.tile(a_([0,1,1], 'f8'), reps=[nReps,1])\n",
    "print(doorMat)\n",
    "shuffleNs = np.vstack([np.random.permutation(3) for x in range(nReps)])\n",
    "print(shuffleNs)\n",
    "doorMat = np.take(doorMat, shuffleNs)\n",
    "print(doorMat)"
   ]
  },
  {
   "cell_type": "code",
   "execution_count": 381,
   "metadata": {
    "collapsed": false
   },
   "outputs": [
    {
     "data": {
      "text/plain": [
       "(array([0, 1, 2, 3, 4, 4, 5, 5, 6, 7, 8, 9]),\n",
       " array([1, 0, 1, 0, 0, 1, 0, 1, 1, 1, 0, 1]))"
      ]
     },
     "execution_count": 381,
     "metadata": {},
     "output_type": "execute_result"
    }
   ],
   "source": [
    "# np.nonzero returns tuple\n",
    "np.nonzero(doorMat[:,1:]==1)"
   ]
  },
  {
   "cell_type": "code",
   "execution_count": 382,
   "metadata": {
    "collapsed": false
   },
   "outputs": [
    {
     "name": "stdout",
     "output_type": "stream",
     "text": [
      "[ 0  1  2  3  4  6  8  9 10 11]\n",
      "[2 1 2 1 1 1 2 2 1 2]\n",
      "[[  1.   0.  nan]\n",
      " [  1.  nan   0.]\n",
      " [  1.   0.  nan]\n",
      " [  1.  nan   0.]\n",
      " [  0.  nan   1.]\n",
      " [  0.  nan   1.]\n",
      " [  1.   0.  nan]\n",
      " [  1.   0.  nan]\n",
      " [  1.  nan   0.]\n",
      " [  1.   0.  nan]]\n"
     ]
    }
   ],
   "source": [
    "# do open\n",
    "openXY = np.nonzero(doorMat[:,1:]==1)\n",
    "\n",
    "#  np.unique(return_index=True): returns tuple\n",
    "np.unique(openXY[0], return_index=True)\n",
    "\n",
    "desNs=np.unique(openXY[0], return_index=True)[1]\n",
    "print(desNs)\n",
    "openN = openXY[1][desNs]+1\n",
    "print(openN)\n",
    "\n",
    "doorMat2 = doorMat.copy()\n",
    "doorMat2[openXY[0][desNs],openN] = np.nan\n",
    "print(doorMat2)"
   ]
  },
  {
   "cell_type": "code",
   "execution_count": 383,
   "metadata": {
    "collapsed": false
   },
   "outputs": [
    {
     "name": "stdout",
     "output_type": "stream",
     "text": [
      "[[ True False]\n",
      " [False  True]\n",
      " [ True False]\n",
      " [False  True]\n",
      " [False  True]\n",
      " [False  True]\n",
      " [ True False]\n",
      " [ True False]\n",
      " [False  True]\n",
      " [ True False]]\n",
      "[1 2 1 2 2 2 1 1 2 1]\n"
     ]
    },
    {
     "data": {
      "text/plain": [
       "0.20000000000000001"
      ]
     },
     "execution_count": 383,
     "metadata": {},
     "output_type": "execute_result"
    }
   ],
   "source": [
    "# do switch \n",
    "print(~np.isnan(doorMat2[:,1:]))\n",
    "#print(np.nonzero(~np.isnan(doorMat2[:,1:])))\n",
    "#print(np.nonzero(~np.isnan(doorMat2[:,1:]))[1])\n",
    "\n",
    "switchToNs = np.nonzero(~np.isnan(doorMat2[:,1:]))[1]+1\n",
    "print(switchToNs)\n",
    "doorMat2[switchToNs,:]\n",
    "\n",
    "goatV = np.choose(switchToNs, doorMat2.T)\n",
    "np.sum(goatV)/len(goatV)\n"
   ]
  },
  {
   "cell_type": "code",
   "execution_count": 391,
   "metadata": {
    "collapsed": false
   },
   "outputs": [
    {
     "data": {
      "text/plain": [
       "0.33610000000000001"
      ]
     },
     "execution_count": 391,
     "metadata": {},
     "output_type": "execute_result"
    }
   ],
   "source": [
    "## %%timeit\n",
    "# monte carlo with vectors\n",
    "# full code\n",
    "\n",
    "\n",
    "nReps = 10000\n",
    "doorMat = np.tile(a_([0,1,1], 'f8'), reps=[nReps,1])\n",
    "shuffleNs = np.vstack([np.random.permutation(3) for x in range(nReps)])\n",
    "doorMat = np.take(doorMat, shuffleNs)\n",
    "\n",
    "# open\n",
    "openXY = np.nonzero(doorMat[:,1:]==1)\n",
    "np.unique(openXY[0], return_index=True)\n",
    "desNs=np.unique(openXY[0], return_index=True)[1]\n",
    "openN = openXY[1][desNs]+1\n",
    "doorMat2 = doorMat.copy()\n",
    "doorMat2[openXY[0][desNs],openN] = np.nan\n",
    "\n",
    "# switch\n",
    "switchToNs = np.nonzero(~np.isnan(doorMat2[:,1:]))[1]+1\n",
    "doorMat2[switchToNs,:]\n",
    "\n",
    "# calc\n",
    "goatV = np.choose(switchToNs, doorMat2.T)\n",
    "np.sum(goatV)/len(goatV)"
   ]
  },
  {
   "cell_type": "markdown",
   "metadata": {},
   "source": [
    "# simple regression\n"
   ]
  },
  {
   "cell_type": "code",
   "execution_count": 452,
   "metadata": {
    "collapsed": false
   },
   "outputs": [
    {
     "name": "stdout",
     "output_type": "stream",
     "text": [
      "[  549   549  -125  -804   549   549   549   550   549   549   549   550\n",
      "   549 -2762   549   550   550 -1667   549   549   550   549   550   549\n",
      "  -555 -1020   549   549   550   549   550   549  -748   549   550   549\n",
      "   549   549   549 -1301   549   550   333   549  -500   247   549   238\n",
      "  -547   252   277    -9   391   550   418  -226   260   315  -580   549\n",
      "   549   549  -452   549   550  -130   278   320   302  -680   549   550\n",
      " -1135   549   550   550  -608   549   301   112   -76 -1116   282   371\n",
      "   211  -545   292   273   257   209  -384   302  -177   235   265 -1163\n",
      "   233   549   243   269   359 -1147   424   234   174   191  -459   309\n",
      "   183   277   266   237  -190 -1196   550 -1003   549   263   228   213\n",
      "   193   285  -581   325   266   303   257   291 -1072   368   234 -1675\n",
      "   317   219   237  -459   236   255  -392 -1792   549   233   346 -1830\n",
      "   323  -843 -2230   272  -555   414   337 -1676   364   231   230  -395\n",
      "   320   443 -1403   421    98   245  -584   269   235   283   190 -1600\n",
      "  -934   225  -108   245    96   232   226 -1518   306 -1590   550   342\n",
      "   236   241  -180  -697   253   223   257   151   549   306   549 -1192\n",
      "  -788   550   550  -766 -3803   344   306   242   203   220 -1521   292\n",
      " -1092   540   550 -1934   280   278   238   239   220   293  -204 -1774\n",
      "   550   550   270  -910   549   244   413   332   299   203   260   224\n",
      "    89 -1083   224   284  -874   299   140   215   243   138  -668   217\n",
      "   268    12   214 -1723 -1195   220 -2520   550   285   252   273  -940\n",
      " -1253  -418   549 -3488   549   227   245   325   198  -203  -676   214\n",
      "  -378  -987   199   264  -445   251   224 -1538 -1064   399   112  -967\n",
      " -2067   549 -2380   546   550 -1811   388  -474   550   550   550   346\n",
      "   550   387  -279   550   340   448   334   281   298   321   287   231\n",
      "   302 -2095   270   374  -781   358   159   311   289   -78]\n"
     ]
    }
   ],
   "source": [
    "# load data\n",
    "import scipy.io\n",
    "m0 = scipy.io.loadmat('./data2-i1114-161031.mat')\n",
    "\n",
    "input = m0['input']\n",
    "reactTimesV = np.hstack([x[0][0] for x in input['reactTimesMs'][0][0][0]])\n",
    "print(reactTimesV)\n",
    "\n",
    "tGratingContrast = np.hstack([x[0][0] for x in input['tGratingContrast'][0][0][0]])\n",
    "trialOutcome = np.hstack([x[0] for x in input['trialOutcomeCell'][0][0][0]])\n",
    "successIx = trialOutcome == 'success'\n",
    "\n",
    "\n",
    "\n",
    "#print(1)"
   ]
  },
  {
   "cell_type": "code",
   "execution_count": 450,
   "metadata": {
    "collapsed": false
   },
   "outputs": [
    {
     "data": {
      "text/plain": [
       "[<matplotlib.lines.Line2D at 0x12628fb38>]"
      ]
     },
     "execution_count": 450,
     "metadata": {},
     "output_type": "execute_result"
    },
    {
     "data": {
      "image/png": "[encoded data removed]",
      "text/plain": [
       "<matplotlib.figure.Figure at 0x11f12f128>"
      ]
     },
     "metadata": {},
     "output_type": "display_data"
    }
   ],
   "source": [
    "import seaborn as sns\n",
    "plt.plot(reactTimesV, '.')"
   ]
  },
  {
   "cell_type": "code",
   "execution_count": 453,
   "metadata": {
    "collapsed": false
   },
   "outputs": [
    {
     "data": {
      "text/plain": [
       "[<matplotlib.lines.Line2D at 0x11f13ba90>]"
      ]
     },
     "execution_count": 453,
     "metadata": {},
     "output_type": "execute_result"
    },
    {
     "data": {
      "image/png": "[encoded data removed]",
      "text/plain": [
       "<matplotlib.figure.Figure at 0x1263e20b8>"
      ]
     },
     "metadata": {},
     "output_type": "display_data"
    }
   ],
   "source": [
    "plt.plot(reactTimesV[successIx])"
   ]
  },
  {
   "cell_type": "code",
   "execution_count": 455,
   "metadata": {
    "collapsed": false
   },
   "outputs": [
    {
     "data": {
      "text/plain": [
       "<matplotlib.text.Text at 0x11cc97c18>"
      ]
     },
     "execution_count": 455,
     "metadata": {},
     "output_type": "execute_result"
    },
    {
     "data": {
      "image/png": "[encoded data removed]",
      "text/plain": [
       "<matplotlib.figure.Figure at 0x11ccaa2e8>"
      ]
     },
     "metadata": {},
     "output_type": "display_data"
    }
   ],
   "source": [
    "desIx = (successIx) & (reactTimesV > 0)\n",
    "plt.plot(tGratingContrast[desIx], reactTimesV[desIx], '.')\n",
    "plt.xlabel('contrast')\n",
    "plt.ylabel('RT (ms)')"
   ]
  },
  {
   "cell_type": "code",
   "execution_count": 459,
   "metadata": {
    "collapsed": false
   },
   "outputs": [
    {
     "name": "stdout",
     "output_type": "stream",
     "text": [
      "0.000117038864666\n",
      "LinregressResult(slope=-6.0594820748291101, intercept=270.99138421754543, rvalue=-0.010818450197030507, pvalue=0.89546375710813342, stderr=46.037759632271246)\n"
     ]
    }
   ],
   "source": [
    "import scipy.stats\n",
    "xs = tGratingContrast[desIx]\n",
    "ys = reactTimesV[desIx]\n",
    "res = scipy.stats.linregress(xs,ys)\n",
    "\n",
    "print(res.rvalue**2)\n",
    "print(res)\n"
   ]
  },
  {
   "cell_type": "code",
   "execution_count": 462,
   "metadata": {
    "collapsed": false
   },
   "outputs": [
    {
     "data": {
      "text/plain": [
       "[<matplotlib.lines.Line2D at 0x11c974588>]"
      ]
     },
     "execution_count": 462,
     "metadata": {},
     "output_type": "execute_result"
    },
    {
     "data": {
      "image/png": "[encoded data removed]",
      "text/plain": [
       "<matplotlib.figure.Figure at 0x11c974240>"
      ]
     },
     "metadata": {},
     "output_type": "display_data"
    }
   ],
   "source": [
    "plt.plot(xs,ys,'.')\n",
    "xs0 = np.linspace(0,0.5,100)\n",
    "plt.plot(xs0, xs0*res.slope+res.intercept, 'k')"
   ]
  }
 ],
 "metadata": {
  "kernelspec": {
   "display_name": "Python 3",
   "language": "python",
   "name": "python3"
  },
  "language_info": {
   "codemirror_mode": {
    "name": "ipython",
    "version": 3
   },
   "file_extension": ".py",
   "mimetype": "text/x-python",
   "name": "python",
   "nbconvert_exporter": "python",
   "pygments_lexer": "ipython3",
   "version": "3.5.1"
  }
 },
 "nbformat": 4,
 "nbformat_minor": 0
}
